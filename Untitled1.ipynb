{
 "cells": [
  {
   "cell_type": "markdown",
   "metadata": {},
   "source": [
    "# Project 2: Statistical Analysis and Hypothesis Testing¶\n",
    "\n",
    "Name: Carolann Moore\n",
    "\n",
    "Gathering data from the Northwind database and creating and testing at least 4 different hypothesis in order to make the company more efficient.\n",
    "\n",
    "I will be using the scientific method to perform these tests, and therefor will have the same set up for each question.\n",
    "\n",
    "1. I will go through the data, clean anything up that is needed, and explore the data to determine what I am working with and pose a question.\n",
    "\n",
    "2. I will define a hyptohesis - both a null and an alternative hypothesis\n",
    "\n",
    "3. I will perform statistical testing in order to determine the statistical significance in the results\n",
    "\n",
    "4. I will draw conclusions from the testing and decide to either reject or fail to reject my null hypothesis posed.\n",
    "\n",
    "\n",
    "### Questions:\n",
    "\n",
    "1. Does discount amount have a statistically significant effect on the quantity of a product in an order? If so, at what level(s) of discount?\n",
    "\n",
    "2. Do discounts have a greater effect on quantity of products ordered in a single transaction or the amount of total transactions?\n",
    "\n",
    "3. Do employees who have been at the company for longer sell more products than those who have been there for less time?\n",
    "\n",
    "4. Does the title of the employee change how much revenue they bring in? Do more managers/reps mean more products sold?\n",
    "\n",
    "5. Is the company keeping too much inventory in stock for products that are sold less often or in fewer quantity? \n"
   ]
  },
  {
   "cell_type": "markdown",
   "metadata": {},
   "source": [
    "## Import Necessary Libraries"
   ]
  },
  {
   "cell_type": "code",
   "execution_count": 1,
   "metadata": {},
   "outputs": [],
   "source": [
    "import pandas as pd\n",
    "import sqlalchemy\n",
    "from sqlalchemy import create_engine\n",
    "from sqlalchemy import inspect\n",
    "from sqlalchemy.orm import Session, sessionmaker\n",
    "import matplotlib.pyplot as plt\n",
    "import seaborn as sns\n",
    "import numpy as np\n",
    "from scipy import stats\n",
    "import warnings\n",
    "warnings.filterwarnings('ignore')"
   ]
  },
  {
   "cell_type": "markdown",
   "metadata": {},
   "source": [
    "### Make a connection with the SQL Northwind library"
   ]
  },
  {
   "cell_type": "code",
   "execution_count": 2,
   "metadata": {},
   "outputs": [],
   "source": [
    "engine = create_engine(\"sqlite:///Northwind_small.sqlite\")\n",
    "Session = sessionmaker(bind=engine)\n",
    "session = Session()\n",
    "con = engine.connect()\n",
    "inspector = inspect(engine)"
   ]
  },
  {
   "cell_type": "code",
   "execution_count": 12,
   "metadata": {},
   "outputs": [
    {
     "name": "stdout",
     "output_type": "stream",
     "text": [
      "Table:  Category\n",
      "Table:  Customer\n",
      "Table:  CustomerCustomerDemo\n",
      "Table:  CustomerDemographic\n",
      "Table:  Employee\n",
      "Table:  EmployeeTerritory\n",
      "Table:  Order\n",
      "Table:  OrderDetail\n",
      "Table:  Product\n",
      "Table:  Region\n",
      "Table:  Shipper\n",
      "Table:  Supplier\n",
      "Table:  Territory\n"
     ]
    }
   ],
   "source": [
    "# get names of tables in database\n",
    "tables = inspector.get_table_names()\n",
    "for name in tables:\n",
    "    print(\"Table: \", name)"
   ]
  },
  {
   "cell_type": "markdown",
   "metadata": {},
   "source": [
    "### Define Functions"
   ]
  },
  {
   "cell_type": "code",
   "execution_count": 3,
   "metadata": {},
   "outputs": [],
   "source": [
    "def table_info(table_name):    \n",
    "    \"\"\" Function takes in table name and prints columns' names\n",
    "    and datatypes \"\"\"\n",
    "    \n",
    "    cols_list = inspector.get_columns(table_name)    \n",
    "    print(f\"Table Name: {table_name}\\n\")\n",
    "    for col in cols_list:\n",
    "        print(f\"Name: {col['name']} \\t Type: {col['type']}\")"
   ]
  },
  {
   "cell_type": "code",
   "execution_count": 4,
   "metadata": {},
   "outputs": [],
   "source": [
    "def Cohen_d(group1, group2):\n",
    "    '''Small effect = 0.2\n",
    "\n",
    "        Medium Effect = 0.5\n",
    "\n",
    "        Large Effect = 0.8'''\n",
    "    \n",
    "    diff = group1.mean() - group2.mean()\n",
    "\n",
    "    n1, n2 = len(group1), len(group2)\n",
    "    var1 = group1.var()\n",
    "    var2 = group2.var()\n",
    "\n",
    "    # Calculate the pooled threshold as shown earlier\n",
    "    pooled_var = (n1 * var1 + n2 * var2) / (n1 + n2)\n",
    "    \n",
    "    # Calculate Cohen's d statistic\n",
    "    d = diff / np.sqrt(pooled_var)\n",
    "    \n",
    "    return print(\"D: \", d)\n",
    "    "
   ]
  },
  {
   "cell_type": "code",
   "execution_count": 14,
   "metadata": {},
   "outputs": [],
   "source": [
    "def welch_t(a, b):\n",
    "    \n",
    "    \"\"\" Calculate Welch's t statistic for two samples. \"\"\"\n",
    "\n",
    "    numerator = a.mean() - b.mean()\n",
    "    \n",
    "    # “ddof = Delta Degrees of Freedom”: the divisor used in the calculation is N - ddof, \n",
    "    #  where N represents the number of elements. By default ddof is zero.\n",
    "    \n",
    "    denominator = np.sqrt(a.var(ddof=1)/a.size + b.var(ddof=1)/b.size)\n",
    "    \n",
    "    return np.abs(numerator/denominator)"
   ]
  },
  {
   "cell_type": "code",
   "execution_count": 5,
   "metadata": {},
   "outputs": [],
   "source": [
    "def welch_df(a, b):\n",
    "    \"\"\" Calculates the effective degrees of freedom for two samples. \"\"\"\n",
    "    s1 = a.var(ddof=1) \n",
    "    s2 = b.var(ddof=1)\n",
    "    n1 = a.size\n",
    "    n2 = b.size    \n",
    "    num = (s1/n1 + s2/n2)**2\n",
    "    denom = (s1/n1)**2/(n1 - 1) + (s2/ n2)**2/(n2 - 1)\n",
    "    df = num/denom\n",
    "    return round(df,0)"
   ]
  },
  {
   "cell_type": "code",
   "execution_count": 16,
   "metadata": {},
   "outputs": [],
   "source": [
    "def p_value(a, b, two_sided=False):\n",
    "\n",
    "    t = welch_t(a, b)\n",
    "    df = welch_df(a, b)\n",
    "    \n",
    "    p = 1-stats.t.cdf(np.abs(t), df)\n",
    "    \n",
    "    if two_sided:\n",
    "        return 2*p\n",
    "    else:\n",
    "        return p"
   ]
  },
  {
   "cell_type": "code",
   "execution_count": 13,
   "metadata": {},
   "outputs": [],
   "source": [
    "def one_sample_ttest(sample, popmean, alpha):\n",
    "\n",
    "    # Visualize sample distribution for normality \n",
    "    sns.set(color_codes=True)\n",
    "    sns.set(rc={'figure.figsize':(12,10)})\n",
    "    sns.distplot(sample)\n",
    "    \n",
    "    # Population mean \n",
    "    mu = popmean\n",
    "    \n",
    "    # Sample mean (x̄) using NumPy mean()\n",
    "    x_bar= sample.mean()\n",
    "\n",
    "    # Sample Standard Deviation (sigma) using Numpy\n",
    "    sigma = np.std(sample)\n",
    "    \n",
    "    # Degrees of freedom\n",
    "    df = len(sample) - 1\n",
    "    \n",
    "    #Calculate the critical t-value\n",
    "    t_crit = stats.t.ppf(1 - alpha, df=df)\n",
    "    \n",
    "    #Calculate the t-value and p-value\n",
    "    results = stats.ttest_1samp(a= sample, popmean= mu)         \n",
    "    \n",
    "    if (results[0]>t_crit) and (results[1]<alpha):\n",
    "        print (\"Null hypothesis rejected. Results are statistically significant with t-value =\", \n",
    "                round(results[0], 2), \"critical t-value =\", t_crit, \"and p-value =\", np.round((results[1]), 10))\n",
    "    else:\n",
    "        print (\"Null hypothesis is True with t-value =\", \n",
    "                round(results[0], 2), \", critical t-value =\", t_crit, \"and p-value =\", np.round((results[1]), 10))\n",
    "    "
   ]
  },
  {
   "cell_type": "markdown",
   "metadata": {},
   "source": [
    "## Q1: Does discount amount have a statistically significant effect on the quantity of a product in an order? If so, at what level(s) of discount?"
   ]
  },
  {
   "cell_type": "markdown",
   "metadata": {},
   "source": [
    "### Exploratory Research"
   ]
  },
  {
   "cell_type": "code",
   "execution_count": 45,
   "metadata": {},
   "outputs": [
    {
     "data": {
      "text/html": [
       "<div>\n",
       "<style scoped>\n",
       "    .dataframe tbody tr th:only-of-type {\n",
       "        vertical-align: middle;\n",
       "    }\n",
       "\n",
       "    .dataframe tbody tr th {\n",
       "        vertical-align: top;\n",
       "    }\n",
       "\n",
       "    .dataframe thead th {\n",
       "        text-align: right;\n",
       "    }\n",
       "</style>\n",
       "<table border=\"1\" class=\"dataframe\">\n",
       "  <thead>\n",
       "    <tr style=\"text-align: right;\">\n",
       "      <th></th>\n",
       "      <th>Id</th>\n",
       "      <th>OrderId</th>\n",
       "      <th>ProductId</th>\n",
       "      <th>UnitPrice</th>\n",
       "      <th>Quantity</th>\n",
       "      <th>Discount</th>\n",
       "    </tr>\n",
       "  </thead>\n",
       "  <tbody>\n",
       "    <tr>\n",
       "      <th>0</th>\n",
       "      <td>10764/39</td>\n",
       "      <td>10764</td>\n",
       "      <td>39</td>\n",
       "      <td>18.00</td>\n",
       "      <td>130</td>\n",
       "      <td>0.10</td>\n",
       "    </tr>\n",
       "    <tr>\n",
       "      <th>1</th>\n",
       "      <td>11072/64</td>\n",
       "      <td>11072</td>\n",
       "      <td>64</td>\n",
       "      <td>33.25</td>\n",
       "      <td>130</td>\n",
       "      <td>0.00</td>\n",
       "    </tr>\n",
       "    <tr>\n",
       "      <th>2</th>\n",
       "      <td>10398/55</td>\n",
       "      <td>10398</td>\n",
       "      <td>55</td>\n",
       "      <td>19.20</td>\n",
       "      <td>120</td>\n",
       "      <td>0.10</td>\n",
       "    </tr>\n",
       "    <tr>\n",
       "      <th>3</th>\n",
       "      <td>10451/55</td>\n",
       "      <td>10451</td>\n",
       "      <td>55</td>\n",
       "      <td>19.20</td>\n",
       "      <td>120</td>\n",
       "      <td>0.10</td>\n",
       "    </tr>\n",
       "    <tr>\n",
       "      <th>4</th>\n",
       "      <td>10515/27</td>\n",
       "      <td>10515</td>\n",
       "      <td>27</td>\n",
       "      <td>43.90</td>\n",
       "      <td>120</td>\n",
       "      <td>0.00</td>\n",
       "    </tr>\n",
       "    <tr>\n",
       "      <th>5</th>\n",
       "      <td>10595/61</td>\n",
       "      <td>10595</td>\n",
       "      <td>61</td>\n",
       "      <td>28.50</td>\n",
       "      <td>120</td>\n",
       "      <td>0.25</td>\n",
       "    </tr>\n",
       "    <tr>\n",
       "      <th>6</th>\n",
       "      <td>10678/41</td>\n",
       "      <td>10678</td>\n",
       "      <td>41</td>\n",
       "      <td>9.65</td>\n",
       "      <td>120</td>\n",
       "      <td>0.00</td>\n",
       "    </tr>\n",
       "    <tr>\n",
       "      <th>7</th>\n",
       "      <td>10711/53</td>\n",
       "      <td>10711</td>\n",
       "      <td>53</td>\n",
       "      <td>32.80</td>\n",
       "      <td>120</td>\n",
       "      <td>0.00</td>\n",
       "    </tr>\n",
       "    <tr>\n",
       "      <th>8</th>\n",
       "      <td>10776/51</td>\n",
       "      <td>10776</td>\n",
       "      <td>51</td>\n",
       "      <td>53.00</td>\n",
       "      <td>120</td>\n",
       "      <td>0.05</td>\n",
       "    </tr>\n",
       "    <tr>\n",
       "      <th>9</th>\n",
       "      <td>10894/75</td>\n",
       "      <td>10894</td>\n",
       "      <td>75</td>\n",
       "      <td>7.75</td>\n",
       "      <td>120</td>\n",
       "      <td>0.05</td>\n",
       "    </tr>\n",
       "    <tr>\n",
       "      <th>10</th>\n",
       "      <td>10713/45</td>\n",
       "      <td>10713</td>\n",
       "      <td>45</td>\n",
       "      <td>9.50</td>\n",
       "      <td>110</td>\n",
       "      <td>0.00</td>\n",
       "    </tr>\n",
       "    <tr>\n",
       "      <th>11</th>\n",
       "      <td>10895/24</td>\n",
       "      <td>10895</td>\n",
       "      <td>24</td>\n",
       "      <td>4.50</td>\n",
       "      <td>110</td>\n",
       "      <td>0.00</td>\n",
       "    </tr>\n",
       "    <tr>\n",
       "      <th>12</th>\n",
       "      <td>11017/59</td>\n",
       "      <td>11017</td>\n",
       "      <td>59</td>\n",
       "      <td>55.00</td>\n",
       "      <td>110</td>\n",
       "      <td>0.00</td>\n",
       "    </tr>\n",
       "    <tr>\n",
       "      <th>13</th>\n",
       "      <td>10286/35</td>\n",
       "      <td>10286</td>\n",
       "      <td>35</td>\n",
       "      <td>14.40</td>\n",
       "      <td>100</td>\n",
       "      <td>0.00</td>\n",
       "    </tr>\n",
       "    <tr>\n",
       "      <th>14</th>\n",
       "      <td>10452/44</td>\n",
       "      <td>10452</td>\n",
       "      <td>44</td>\n",
       "      <td>15.50</td>\n",
       "      <td>100</td>\n",
       "      <td>0.05</td>\n",
       "    </tr>\n",
       "  </tbody>\n",
       "</table>\n",
       "</div>"
      ],
      "text/plain": [
       "          Id  OrderId  ProductId  UnitPrice  Quantity  Discount\n",
       "0   10764/39    10764         39      18.00       130      0.10\n",
       "1   11072/64    11072         64      33.25       130      0.00\n",
       "2   10398/55    10398         55      19.20       120      0.10\n",
       "3   10451/55    10451         55      19.20       120      0.10\n",
       "4   10515/27    10515         27      43.90       120      0.00\n",
       "5   10595/61    10595         61      28.50       120      0.25\n",
       "6   10678/41    10678         41       9.65       120      0.00\n",
       "7   10711/53    10711         53      32.80       120      0.00\n",
       "8   10776/51    10776         51      53.00       120      0.05\n",
       "9   10894/75    10894         75       7.75       120      0.05\n",
       "10  10713/45    10713         45       9.50       110      0.00\n",
       "11  10895/24    10895         24       4.50       110      0.00\n",
       "12  11017/59    11017         59      55.00       110      0.00\n",
       "13  10286/35    10286         35      14.40       100      0.00\n",
       "14  10452/44    10452         44      15.50       100      0.05"
      ]
     },
     "execution_count": 45,
     "metadata": {},
     "output_type": "execute_result"
    }
   ],
   "source": [
    "dfODetails = pd.read_sql_query(\"\"\"SELECT * FROM OrderDetail ORDER BY Quantity DESC;\"\"\", engine)\n",
    "dfODetails.head(15) #See what the data looks like"
   ]
  },
  {
   "cell_type": "code",
   "execution_count": 46,
   "metadata": {},
   "outputs": [
    {
     "name": "stdout",
     "output_type": "stream",
     "text": [
      "<class 'pandas.core.frame.DataFrame'>\n",
      "RangeIndex: 2155 entries, 0 to 2154\n",
      "Data columns (total 6 columns):\n",
      "Id           2155 non-null object\n",
      "OrderId      2155 non-null int64\n",
      "ProductId    2155 non-null int64\n",
      "UnitPrice    2155 non-null float64\n",
      "Quantity     2155 non-null int64\n",
      "Discount     2155 non-null float64\n",
      "dtypes: float64(2), int64(3), object(1)\n",
      "memory usage: 101.1+ KB\n",
      "None\n",
      "************************************\n"
     ]
    },
    {
     "data": {
      "text/plain": [
       "0.00    1317\n",
       "0.05     185\n",
       "0.10     173\n",
       "0.20     161\n",
       "0.15     157\n",
       "0.25     154\n",
       "0.03       3\n",
       "0.02       2\n",
       "0.04       1\n",
       "0.01       1\n",
       "0.06       1\n",
       "Name: Discount, dtype: int64"
      ]
     },
     "execution_count": 46,
     "metadata": {},
     "output_type": "execute_result"
    }
   ],
   "source": [
    "print(dfODetails.info()) #Check and see if any rows have null values\n",
    "print(\"************************************\")\n",
    "dfODetails.Discount.value_counts() #See how many dicounts are at each level"
   ]
  },
  {
   "cell_type": "code",
   "execution_count": 47,
   "metadata": {},
   "outputs": [
    {
     "data": {
      "text/plain": [
       "0.00    1317\n",
       "0.05     185\n",
       "0.10     173\n",
       "0.20     161\n",
       "0.15     157\n",
       "0.25     154\n",
       "Name: Discount, dtype: int64"
      ]
     },
     "execution_count": 47,
     "metadata": {},
     "output_type": "execute_result"
    }
   ],
   "source": [
    "#Drop outliers and check value counts again\n",
    "dfODetails = dfODetails[(dfODetails.Discount != 0.03) & (dfODetails.Discount != 0.06) & \n",
    "                         (dfODetails.Discount != 0.04) & (dfODetails.Discount != 0.02) &\n",
    "                         (dfODetails.Discount != 0.01)]\n",
    "dfODetails.Discount.value_counts()"
   ]
  },
  {
   "cell_type": "markdown",
   "metadata": {},
   "source": [
    "Since I ordered the data by quantity descending, we know that the amount of product in each order ranges from 1-130. I'm going to bin these amounts just to make it easier to see how much quantity is in each purchase."
   ]
  },
  {
   "cell_type": "code",
   "execution_count": 85,
   "metadata": {},
   "outputs": [],
   "source": [
    "binned = [1, 10, 25, 50, 75, 100, 130]\n",
    "dfODetails['binned'] = pd.cut(dfODetails['Quantity'], bins)"
   ]
  },
  {
   "cell_type": "code",
   "execution_count": 86,
   "metadata": {},
   "outputs": [
    {
     "data": {
      "text/plain": [
       "<matplotlib.axes._subplots.AxesSubplot at 0x127a57f98>"
      ]
     },
     "execution_count": 86,
     "metadata": {},
     "output_type": "execute_result"
    },
    {
     "data": {
      "image/png": "[encoded data removed]",
      "text/plain": [
       "<Figure size 432x288 with 1 Axes>"
      ]
     },
     "metadata": {
      "needs_background": "light"
     },
     "output_type": "display_data"
    }
   ],
   "source": [
    "sns.boxenplot(dfODetails.Discount, dfODetails.Quantity)"
   ]
  },
  {
   "cell_type": "code",
   "execution_count": 99,
   "metadata": {},
   "outputs": [],
   "source": [
    "dfdiscounts = dfODetails[(dfODetails.Discount == .05) & (dfODetails.Discount == .1) &(dfODetails.Discount == .15) & \n",
    "                         (dfODetails.Discount == .20) &(dfODetails.Discount == .25) & dfODetails.Quantity]\n",
    "dfnodiscount = dfODetails[(dfODetails.Discount == 0.00) & dfODetails.Quantity]"
   ]
  },
  {
   "cell_type": "code",
   "execution_count": null,
   "metadata": {},
   "outputs": [],
   "source": [
    "dfdiscounts"
   ]
  },
  {
   "cell_type": "code",
   "execution_count": null,
   "metadata": {},
   "outputs": [],
   "source": []
  },
  {
   "cell_type": "markdown",
   "metadata": {},
   "source": [
    "### Define Hypothesis\n",
    "\n"
   ]
  },
  {
   "cell_type": "markdown",
   "metadata": {},
   "source": [
    "### Statistical Testing\n",
    "\n",
    "One-tail or two-tail test?\n",
    "\n",
    "What test will be used?"
   ]
  },
  {
   "cell_type": "markdown",
   "metadata": {},
   "source": [
    "### Conclusions"
   ]
  },
  {
   "cell_type": "markdown",
   "metadata": {},
   "source": [
    "## Q2: Do discounts have a greater effect on quantity of products ordered in a single transaction or the amount of total transactions?"
   ]
  },
  {
   "cell_type": "markdown",
   "metadata": {},
   "source": [
    "### Exploratory Research"
   ]
  },
  {
   "cell_type": "markdown",
   "metadata": {},
   "source": [
    "### Define Hypothesis"
   ]
  },
  {
   "cell_type": "markdown",
   "metadata": {},
   "source": [
    "### Statistical Testing\n",
    "\n",
    "One-tail or two-tail test?\n",
    "\n",
    "What test will be used?"
   ]
  },
  {
   "cell_type": "markdown",
   "metadata": {},
   "source": [
    "### Conclusions"
   ]
  },
  {
   "cell_type": "markdown",
   "metadata": {},
   "source": [
    "## Q3: Do employees who have been at the company for longer sell more products than those who have been there for less time?"
   ]
  },
  {
   "cell_type": "markdown",
   "metadata": {},
   "source": [
    "### Exploratory Research"
   ]
  },
  {
   "cell_type": "code",
   "execution_count": 51,
   "metadata": {},
   "outputs": [
    {
     "data": {
      "text/html": [
       "<div>\n",
       "<style scoped>\n",
       "    .dataframe tbody tr th:only-of-type {\n",
       "        vertical-align: middle;\n",
       "    }\n",
       "\n",
       "    .dataframe tbody tr th {\n",
       "        vertical-align: top;\n",
       "    }\n",
       "\n",
       "    .dataframe thead th {\n",
       "        text-align: right;\n",
       "    }\n",
       "</style>\n",
       "<table border=\"1\" class=\"dataframe\">\n",
       "  <thead>\n",
       "    <tr style=\"text-align: right;\">\n",
       "      <th></th>\n",
       "      <th>Id</th>\n",
       "      <th>LastName</th>\n",
       "      <th>FirstName</th>\n",
       "      <th>HireDate</th>\n",
       "      <th>BirthDate</th>\n",
       "      <th>OrderId</th>\n",
       "      <th>Id</th>\n",
       "      <th>OrderId</th>\n",
       "      <th>UnitPrice</th>\n",
       "      <th>Quantity</th>\n",
       "    </tr>\n",
       "  </thead>\n",
       "  <tbody>\n",
       "    <tr>\n",
       "      <th>0</th>\n",
       "      <td>5</td>\n",
       "      <td>Buchanan</td>\n",
       "      <td>Steven</td>\n",
       "      <td>2025-10-17</td>\n",
       "      <td>1987-03-04</td>\n",
       "      <td>10248</td>\n",
       "      <td>10248</td>\n",
       "      <td>10248</td>\n",
       "      <td>14.0</td>\n",
       "      <td>12</td>\n",
       "    </tr>\n",
       "    <tr>\n",
       "      <th>1</th>\n",
       "      <td>5</td>\n",
       "      <td>Buchanan</td>\n",
       "      <td>Steven</td>\n",
       "      <td>2025-10-17</td>\n",
       "      <td>1987-03-04</td>\n",
       "      <td>10248</td>\n",
       "      <td>10248</td>\n",
       "      <td>10248</td>\n",
       "      <td>9.8</td>\n",
       "      <td>10</td>\n",
       "    </tr>\n",
       "    <tr>\n",
       "      <th>2</th>\n",
       "      <td>5</td>\n",
       "      <td>Buchanan</td>\n",
       "      <td>Steven</td>\n",
       "      <td>2025-10-17</td>\n",
       "      <td>1987-03-04</td>\n",
       "      <td>10248</td>\n",
       "      <td>10248</td>\n",
       "      <td>10248</td>\n",
       "      <td>34.8</td>\n",
       "      <td>5</td>\n",
       "    </tr>\n",
       "    <tr>\n",
       "      <th>3</th>\n",
       "      <td>6</td>\n",
       "      <td>Suyama</td>\n",
       "      <td>Michael</td>\n",
       "      <td>2025-10-17</td>\n",
       "      <td>1995-07-02</td>\n",
       "      <td>10249</td>\n",
       "      <td>10249</td>\n",
       "      <td>10249</td>\n",
       "      <td>18.6</td>\n",
       "      <td>9</td>\n",
       "    </tr>\n",
       "    <tr>\n",
       "      <th>4</th>\n",
       "      <td>6</td>\n",
       "      <td>Suyama</td>\n",
       "      <td>Michael</td>\n",
       "      <td>2025-10-17</td>\n",
       "      <td>1995-07-02</td>\n",
       "      <td>10249</td>\n",
       "      <td>10249</td>\n",
       "      <td>10249</td>\n",
       "      <td>42.4</td>\n",
       "      <td>40</td>\n",
       "    </tr>\n",
       "  </tbody>\n",
       "</table>\n",
       "</div>"
      ],
      "text/plain": [
       "   Id  LastName FirstName    HireDate   BirthDate  OrderId     Id  OrderId  \\\n",
       "0   5  Buchanan    Steven  2025-10-17  1987-03-04    10248  10248    10248   \n",
       "1   5  Buchanan    Steven  2025-10-17  1987-03-04    10248  10248    10248   \n",
       "2   5  Buchanan    Steven  2025-10-17  1987-03-04    10248  10248    10248   \n",
       "3   6    Suyama   Michael  2025-10-17  1995-07-02    10249  10249    10249   \n",
       "4   6    Suyama   Michael  2025-10-17  1995-07-02    10249  10249    10249   \n",
       "\n",
       "   UnitPrice  Quantity  \n",
       "0       14.0        12  \n",
       "1        9.8        10  \n",
       "2       34.8         5  \n",
       "3       18.6         9  \n",
       "4       42.4        40  "
      ]
     },
     "execution_count": 51,
     "metadata": {},
     "output_type": "execute_result"
    }
   ],
   "source": [
    "dfemployees = pd.read_sql_query(\"\"\"SELECT e.ID, e.LastName, e.FirstName, e.HireDate, e.BirthDate, od.OrderID,\n",
    "                                    O.ID, od.OrderID, od.UnitPrice, od.Quantity \n",
    "                                    FROM Employee e\n",
    "                                    JOIN [Order] O ON e.ID = O.EmployeeID\n",
    "                                    JOIN OrderDetail od ON O.ID = od.OrderID;\"\"\", con=engine)\n",
    "dfemployees.head()"
   ]
  },
  {
   "cell_type": "code",
   "execution_count": null,
   "metadata": {},
   "outputs": [],
   "source": []
  },
  {
   "cell_type": "code",
   "execution_count": null,
   "metadata": {},
   "outputs": [],
   "source": []
  },
  {
   "cell_type": "code",
   "execution_count": null,
   "metadata": {},
   "outputs": [],
   "source": []
  },
  {
   "cell_type": "code",
   "execution_count": null,
   "metadata": {},
   "outputs": [],
   "source": []
  },
  {
   "cell_type": "code",
   "execution_count": null,
   "metadata": {},
   "outputs": [],
   "source": []
  },
  {
   "cell_type": "markdown",
   "metadata": {},
   "source": [
    "### Define Hypothesis"
   ]
  },
  {
   "cell_type": "markdown",
   "metadata": {},
   "source": [
    "### Statistical Testing\n",
    "\n",
    "One-tail or two-tail test?\n",
    "\n",
    "What test will be used?"
   ]
  },
  {
   "cell_type": "markdown",
   "metadata": {},
   "source": [
    "### Conclusions"
   ]
  },
  {
   "cell_type": "markdown",
   "metadata": {},
   "source": [
    "## Q4: Does the title of the employee change how much revenue they bring in? Do more managers/reps mean more products sold?"
   ]
  },
  {
   "cell_type": "markdown",
   "metadata": {},
   "source": [
    "### Exploratory Research"
   ]
  },
  {
   "cell_type": "code",
   "execution_count": 67,
   "metadata": {},
   "outputs": [
    {
     "data": {
      "text/html": [
       "<div>\n",
       "<style scoped>\n",
       "    .dataframe tbody tr th:only-of-type {\n",
       "        vertical-align: middle;\n",
       "    }\n",
       "\n",
       "    .dataframe tbody tr th {\n",
       "        vertical-align: top;\n",
       "    }\n",
       "\n",
       "    .dataframe thead th {\n",
       "        text-align: right;\n",
       "    }\n",
       "</style>\n",
       "<table border=\"1\" class=\"dataframe\">\n",
       "  <thead>\n",
       "    <tr style=\"text-align: right;\">\n",
       "      <th></th>\n",
       "      <th>Id</th>\n",
       "      <th>LastName</th>\n",
       "      <th>FirstName</th>\n",
       "      <th>Title</th>\n",
       "      <th>ReportsTo</th>\n",
       "      <th>OrderId</th>\n",
       "      <th>Id</th>\n",
       "      <th>OrderId</th>\n",
       "      <th>ProductId</th>\n",
       "      <th>UnitPrice</th>\n",
       "      <th>Quantity</th>\n",
       "    </tr>\n",
       "  </thead>\n",
       "  <tbody>\n",
       "    <tr>\n",
       "      <th>0</th>\n",
       "      <td>5</td>\n",
       "      <td>Buchanan</td>\n",
       "      <td>Steven</td>\n",
       "      <td>Sales Manager</td>\n",
       "      <td>2.0</td>\n",
       "      <td>10248</td>\n",
       "      <td>10248</td>\n",
       "      <td>10248</td>\n",
       "      <td>11</td>\n",
       "      <td>14.0</td>\n",
       "      <td>12</td>\n",
       "    </tr>\n",
       "    <tr>\n",
       "      <th>1</th>\n",
       "      <td>5</td>\n",
       "      <td>Buchanan</td>\n",
       "      <td>Steven</td>\n",
       "      <td>Sales Manager</td>\n",
       "      <td>2.0</td>\n",
       "      <td>10248</td>\n",
       "      <td>10248</td>\n",
       "      <td>10248</td>\n",
       "      <td>42</td>\n",
       "      <td>9.8</td>\n",
       "      <td>10</td>\n",
       "    </tr>\n",
       "    <tr>\n",
       "      <th>2</th>\n",
       "      <td>5</td>\n",
       "      <td>Buchanan</td>\n",
       "      <td>Steven</td>\n",
       "      <td>Sales Manager</td>\n",
       "      <td>2.0</td>\n",
       "      <td>10248</td>\n",
       "      <td>10248</td>\n",
       "      <td>10248</td>\n",
       "      <td>72</td>\n",
       "      <td>34.8</td>\n",
       "      <td>5</td>\n",
       "    </tr>\n",
       "    <tr>\n",
       "      <th>3</th>\n",
       "      <td>6</td>\n",
       "      <td>Suyama</td>\n",
       "      <td>Michael</td>\n",
       "      <td>Sales Representative</td>\n",
       "      <td>5.0</td>\n",
       "      <td>10249</td>\n",
       "      <td>10249</td>\n",
       "      <td>10249</td>\n",
       "      <td>14</td>\n",
       "      <td>18.6</td>\n",
       "      <td>9</td>\n",
       "    </tr>\n",
       "    <tr>\n",
       "      <th>4</th>\n",
       "      <td>6</td>\n",
       "      <td>Suyama</td>\n",
       "      <td>Michael</td>\n",
       "      <td>Sales Representative</td>\n",
       "      <td>5.0</td>\n",
       "      <td>10249</td>\n",
       "      <td>10249</td>\n",
       "      <td>10249</td>\n",
       "      <td>51</td>\n",
       "      <td>42.4</td>\n",
       "      <td>40</td>\n",
       "    </tr>\n",
       "    <tr>\n",
       "      <th>5</th>\n",
       "      <td>4</td>\n",
       "      <td>Peacock</td>\n",
       "      <td>Margaret</td>\n",
       "      <td>Sales Representative</td>\n",
       "      <td>2.0</td>\n",
       "      <td>10250</td>\n",
       "      <td>10250</td>\n",
       "      <td>10250</td>\n",
       "      <td>41</td>\n",
       "      <td>7.7</td>\n",
       "      <td>10</td>\n",
       "    </tr>\n",
       "    <tr>\n",
       "      <th>6</th>\n",
       "      <td>4</td>\n",
       "      <td>Peacock</td>\n",
       "      <td>Margaret</td>\n",
       "      <td>Sales Representative</td>\n",
       "      <td>2.0</td>\n",
       "      <td>10250</td>\n",
       "      <td>10250</td>\n",
       "      <td>10250</td>\n",
       "      <td>51</td>\n",
       "      <td>42.4</td>\n",
       "      <td>35</td>\n",
       "    </tr>\n",
       "    <tr>\n",
       "      <th>7</th>\n",
       "      <td>4</td>\n",
       "      <td>Peacock</td>\n",
       "      <td>Margaret</td>\n",
       "      <td>Sales Representative</td>\n",
       "      <td>2.0</td>\n",
       "      <td>10250</td>\n",
       "      <td>10250</td>\n",
       "      <td>10250</td>\n",
       "      <td>65</td>\n",
       "      <td>16.8</td>\n",
       "      <td>15</td>\n",
       "    </tr>\n",
       "    <tr>\n",
       "      <th>8</th>\n",
       "      <td>3</td>\n",
       "      <td>Leverling</td>\n",
       "      <td>Janet</td>\n",
       "      <td>Sales Representative</td>\n",
       "      <td>2.0</td>\n",
       "      <td>10251</td>\n",
       "      <td>10251</td>\n",
       "      <td>10251</td>\n",
       "      <td>22</td>\n",
       "      <td>16.8</td>\n",
       "      <td>6</td>\n",
       "    </tr>\n",
       "    <tr>\n",
       "      <th>9</th>\n",
       "      <td>3</td>\n",
       "      <td>Leverling</td>\n",
       "      <td>Janet</td>\n",
       "      <td>Sales Representative</td>\n",
       "      <td>2.0</td>\n",
       "      <td>10251</td>\n",
       "      <td>10251</td>\n",
       "      <td>10251</td>\n",
       "      <td>57</td>\n",
       "      <td>15.6</td>\n",
       "      <td>15</td>\n",
       "    </tr>\n",
       "  </tbody>\n",
       "</table>\n",
       "</div>"
      ],
      "text/plain": [
       "   Id   LastName FirstName                 Title  ReportsTo  OrderId     Id  \\\n",
       "0   5   Buchanan    Steven         Sales Manager        2.0    10248  10248   \n",
       "1   5   Buchanan    Steven         Sales Manager        2.0    10248  10248   \n",
       "2   5   Buchanan    Steven         Sales Manager        2.0    10248  10248   \n",
       "3   6     Suyama   Michael  Sales Representative        5.0    10249  10249   \n",
       "4   6     Suyama   Michael  Sales Representative        5.0    10249  10249   \n",
       "5   4    Peacock  Margaret  Sales Representative        2.0    10250  10250   \n",
       "6   4    Peacock  Margaret  Sales Representative        2.0    10250  10250   \n",
       "7   4    Peacock  Margaret  Sales Representative        2.0    10250  10250   \n",
       "8   3  Leverling     Janet  Sales Representative        2.0    10251  10251   \n",
       "9   3  Leverling     Janet  Sales Representative        2.0    10251  10251   \n",
       "\n",
       "   OrderId  ProductId  UnitPrice  Quantity  \n",
       "0    10248         11       14.0        12  \n",
       "1    10248         42        9.8        10  \n",
       "2    10248         72       34.8         5  \n",
       "3    10249         14       18.6         9  \n",
       "4    10249         51       42.4        40  \n",
       "5    10250         41        7.7        10  \n",
       "6    10250         51       42.4        35  \n",
       "7    10250         65       16.8        15  \n",
       "8    10251         22       16.8         6  \n",
       "9    10251         57       15.6        15  "
      ]
     },
     "execution_count": 67,
     "metadata": {},
     "output_type": "execute_result"
    }
   ],
   "source": [
    "dfemployeetitle = pd.read_sql_query(\"\"\"SELECT e.ID, e.LastName, e.FirstName, e.Title, e.ReportsTo,\n",
    "                                    od.OrderID, O.ID, od.OrderID, od.ProductID, od.UnitPrice, od.Quantity \n",
    "                                    FROM Employee e\n",
    "                                    JOIN [Order] O ON e.ID = O.EmployeeID\n",
    "                                    JOIN OrderDetail od ON O.ID = od.OrderID;\"\"\", con=engine)\n",
    "dfemployeetitle.head(10)"
   ]
  },
  {
   "cell_type": "code",
   "execution_count": 69,
   "metadata": {},
   "outputs": [
    {
     "data": {
      "text/plain": [
       "2.0    1463\n",
       "5.0     451\n",
       "Name: ReportsTo, dtype: int64"
      ]
     },
     "execution_count": 69,
     "metadata": {},
     "output_type": "execute_result"
    }
   ],
   "source": [
    "dfemployeetitle.ReportsTo.value_counts()"
   ]
  },
  {
   "cell_type": "code",
   "execution_count": null,
   "metadata": {},
   "outputs": [],
   "source": []
  },
  {
   "cell_type": "code",
   "execution_count": null,
   "metadata": {},
   "outputs": [],
   "source": []
  },
  {
   "cell_type": "code",
   "execution_count": null,
   "metadata": {},
   "outputs": [],
   "source": []
  },
  {
   "cell_type": "code",
   "execution_count": null,
   "metadata": {},
   "outputs": [],
   "source": []
  },
  {
   "cell_type": "code",
   "execution_count": null,
   "metadata": {},
   "outputs": [],
   "source": []
  },
  {
   "cell_type": "markdown",
   "metadata": {},
   "source": [
    "### Define Hypothesis"
   ]
  },
  {
   "cell_type": "markdown",
   "metadata": {},
   "source": [
    "### Statistical Testing\n",
    "\n",
    "One-tail or two-tail test?\n",
    "\n",
    "What test will be used?"
   ]
  },
  {
   "cell_type": "markdown",
   "metadata": {},
   "source": [
    "### Conclusions"
   ]
  },
  {
   "cell_type": "markdown",
   "metadata": {},
   "source": [
    "## Q5: Is the company keeping too much inventory in stock for products that are sold less often or in fewer quantity?"
   ]
  },
  {
   "cell_type": "markdown",
   "metadata": {},
   "source": [
    "### Exploratory Research"
   ]
  },
  {
   "cell_type": "markdown",
   "metadata": {},
   "source": [
    "### Define Hypothesis"
   ]
  },
  {
   "cell_type": "markdown",
   "metadata": {},
   "source": [
    "### Statistical Testing\n",
    "\n",
    "One-tail or two-tail test?\n",
    "\n",
    "What test will be used?"
   ]
  },
  {
   "cell_type": "markdown",
   "metadata": {},
   "source": [
    "### Conclusions"
   ]
  },
  {
   "cell_type": "code",
   "execution_count": null,
   "metadata": {},
   "outputs": [],
   "source": []
  }
 ],
 "metadata": {
  "kernelspec": {
   "display_name": "Python [conda env:learn-env] *",
   "language": "python",
   "name": "conda-env-learn-env-py"
  },
  "language_info": {
   "codemirror_mode": {
    "name": "ipython",
    "version": 3
   },
   "file_extension": ".py",
   "mimetype": "text/x-python",
   "name": "python",
   "nbconvert_exporter": "python",
   "pygments_lexer": "ipython3",
   "version": "3.6.6"
  },
  "varInspector": {
   "cols": {
    "lenName": 16,
    "lenType": 16,
    "lenVar": 40
   },
   "kernels_config": {
    "python": {
     "delete_cmd_postfix": "",
     "delete_cmd_prefix": "del ",
     "library": "var_list.py",
     "varRefreshCmd": "print(var_dic_list())"
    },
    "r": {
     "delete_cmd_postfix": ") ",
     "delete_cmd_prefix": "rm(",
     "library": "var_list.r",
     "varRefreshCmd": "cat(var_dic_list()) "
    }
   },
   "types_to_exclude": [
    "module",
    "function",
    "builtin_function_or_method",
    "instance",
    "_Feature"
   ],
   "window_display": false
  }
 },
 "nbformat": 4,
 "nbformat_minor": 2
}
