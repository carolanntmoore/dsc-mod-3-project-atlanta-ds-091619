{
 "cells": [
  {
   "cell_type": "markdown",
   "metadata": {},
   "source": [
    "# Project 2: Statistical Analysis and Hypothesis Testing¶\n",
    "\n",
    "Name: Carolann Moore\n",
    "\n",
    "Gathering data from the Northwind database and creating and testing at least 4 different hypothesis in order to make the company more efficient.\n",
    "\n",
    "I will be using the scientific method to perform these tests, and therefor will have the same set up for each question.\n",
    "\n",
    "1. I will go through the data, clean anything up that is needed, and explore the data to determine what I am working with and pose a question.\n",
    "\n",
    "2. I will define a hyptohesis - both a null and an alternative hypothesis\n",
    "\n",
    "3. I will perform statistical testing in order to determine the statistical significance in the results\n",
    "\n",
    "4. I will draw conclusions from the testing and decide to either reject or fail to reject my null hypothesis posed.\n",
    "\n",
    "\n",
    "### Questions:\n",
    "\n",
    "1. Does discount amount have a statistically significant effect on the quantity of a product in an order? If so, at what level(s) of discount?\n",
    "\n",
    "2. Do discounts have a greater effect on quantity of products ordered in a single transaction or the amount of total transactions?\n",
    "\n",
    "3. Do employees hired in different months have different productivity in sales?\n",
    "\n",
    "4. Do younger employees sell more products than the older employees?\n",
    "\n",
    "\n",
    "**Future work:**\n",
    "5. Is the company keeping too much inventory in stock for products that are sold less often or in fewer quantity?\n",
    "\n",
    "6. Does the title of the employee change how much revenue they bring in? Do more managers/reps mean more products sold? \n"
   ]
  },
  {
   "cell_type": "markdown",
   "metadata": {},
   "source": [
    "## Import Necessary Libraries"
   ]
  },
  {
   "cell_type": "code",
   "execution_count": 1,
   "metadata": {},
   "outputs": [],
   "source": [
    "import pandas as pd\n",
    "from sqlalchemy import create_engine \n",
    "from sqlalchemy import inspect\n",
    "from sqlalchemy.orm import Session, sessionmaker\n",
    "import matplotlib.pyplot as plt\n",
    "import seaborn as sns\n",
    "import numpy as np\n",
    "from scipy import stats\n",
    "from datetime import date\n",
    "from datetime import datetime\n",
    "import pingouin as pg\n",
    "import warnings\n",
    "warnings.filterwarnings('ignore')\n",
    "\n",
    "import statsmodels.api as sm\n",
    "from statsmodels.formula.api import ols"
   ]
  },
  {
   "cell_type": "markdown",
   "metadata": {},
   "source": [
    "### Set graph style"
   ]
  },
  {
   "cell_type": "code",
   "execution_count": 2,
   "metadata": {},
   "outputs": [],
   "source": [
    "sns.set()\n",
    "sns.set_style('darkgrid')\n",
    "sns.set_palette('husl')"
   ]
  },
  {
   "cell_type": "markdown",
   "metadata": {},
   "source": [
    "### Make a connection with the SQL Northwind library"
   ]
  },
  {
   "cell_type": "code",
   "execution_count": 3,
   "metadata": {},
   "outputs": [],
   "source": [
    "engine = create_engine(\"sqlite:///Northwind_small.sqlite\")\n",
    "Session = sessionmaker(bind=engine)\n",
    "session = Session()\n",
    "con = engine.connect()\n",
    "inspector = inspect(engine)"
   ]
  },
  {
   "cell_type": "code",
   "execution_count": 4,
   "metadata": {},
   "outputs": [
    {
     "name": "stdout",
     "output_type": "stream",
     "text": [
      "Table:  Category\n",
      "Table:  Customer\n",
      "Table:  CustomerCustomerDemo\n",
      "Table:  CustomerDemographic\n",
      "Table:  Employee\n",
      "Table:  EmployeeTerritory\n",
      "Table:  Order\n",
      "Table:  OrderDetail\n",
      "Table:  Product\n",
      "Table:  Region\n",
      "Table:  Shipper\n",
      "Table:  Supplier\n",
      "Table:  Territory\n"
     ]
    }
   ],
   "source": [
    "# get names of tables in database\n",
    "tables = inspector.get_table_names()\n",
    "for name in tables:\n",
    "    print(\"Table: \", name)"
   ]
  },
  {
   "cell_type": "markdown",
   "metadata": {},
   "source": [
    "### Define Functions"
   ]
  },
  {
   "cell_type": "code",
   "execution_count": 5,
   "metadata": {},
   "outputs": [],
   "source": [
    "def table_info(table_name):    \n",
    "    \"\"\" Function takes in table name and prints columns' names\n",
    "    and datatypes \"\"\"\n",
    "    \n",
    "    cols_list = inspector.get_columns(table_name)    \n",
    "    print(f\"Table Name: {table_name}\\n\")\n",
    "    for col in cols_list:\n",
    "        print(f\"Name: {col['name']} \\t Type: {col['type']}\")"
   ]
  },
  {
   "cell_type": "code",
   "execution_count": 6,
   "metadata": {},
   "outputs": [],
   "source": [
    "def Cohen_d(group1, group2):\n",
    "    '''Small effect = 0.2\n",
    "\n",
    "        Medium Effect = 0.5\n",
    "\n",
    "        Large Effect = 0.8'''\n",
    "    \n",
    "    diff = group1.mean() - group2.mean()\n",
    "\n",
    "    n1, n2 = len(group1), len(group2)\n",
    "    var1 = group1.var()\n",
    "    var2 = group2.var()\n",
    "\n",
    "    # Calculate the pooled threshold as shown earlier\n",
    "    pooled_var = (n1 * var1 + n2 * var2) / (n1 + n2)\n",
    "    \n",
    "    # Calculate Cohen's d statistic\n",
    "    d = diff / np.sqrt(pooled_var)\n",
    "    \n",
    "    return print(\"d: \", d)"
   ]
  },
  {
   "cell_type": "code",
   "execution_count": 7,
   "metadata": {},
   "outputs": [],
   "source": [
    "def welch_t(a, b):\n",
    "    \n",
    "    \"\"\" Calculate Welch's t statistic for two samples. \"\"\"\n",
    "\n",
    "    numerator = a.mean() - b.mean()\n",
    "    \n",
    "    # “ddof = Delta Degrees of Freedom”: the divisor used in the calculation is N - ddof, \n",
    "    #  where N represents the number of elements. By default ddof is zero.\n",
    "    \n",
    "    denominator = np.sqrt(a.var(ddof=1)/a.size + b.var(ddof=1)/b.size)\n",
    "    \n",
    "    return np.abs(numerator/denominator)\n",
    "\n",
    "def welch_df(a, b):\n",
    "    \"\"\" Calculates the effective degrees of freedom for two samples. \"\"\"\n",
    "    s1 = a.var(ddof=1) \n",
    "    s2 = b.var(ddof=1)\n",
    "    n1 = a.size\n",
    "    n2 = b.size    \n",
    "    num = (s1/n1 + s2/n2)**2\n",
    "    denom = (s1/n1)**2/(n1 - 1) + (s2/ n2)**2/(n2 - 1)\n",
    "    df = num/denom\n",
    "    return round(df,0)\n",
    "\n",
    "def p_value(a, b, two_sided=False):\n",
    "\n",
    "    t = welch_t(a, b)\n",
    "    df = welch_df(a, b)\n",
    "    \n",
    "    p = 1-stats.t.cdf(np.abs(t), df)\n",
    "    \n",
    "    if two_sided:\n",
    "        return 2*p\n",
    "    else:\n",
    "        return p"
   ]
  },
  {
   "cell_type": "code",
   "execution_count": 8,
   "metadata": {},
   "outputs": [],
   "source": [
    "def one_sample_ttest(sample, popmean, alpha):\n",
    "\n",
    "    # Visualize sample distribution for normality \n",
    "    sns.set(color_codes=True)\n",
    "    sns.set(rc={'figure.figsize':(12,10)})\n",
    "    sns.distplot(sample)\n",
    "    \n",
    "    # Population mean \n",
    "    mu = popmean\n",
    "    \n",
    "    # Sample mean (x̄) using NumPy mean()\n",
    "    x_bar= sample.mean()\n",
    "\n",
    "    # Sample Standard Deviation (sigma) using Numpy\n",
    "    sigma = np.std(sample)\n",
    "    \n",
    "    # Degrees of freedom\n",
    "    df = len(sample) - 1\n",
    "    \n",
    "    #Calculate the critical t-value\n",
    "    t_crit = stats.t.ppf(1 - alpha, df=df)\n",
    "    \n",
    "    #Calculate the t-value and p-value\n",
    "    results = stats.ttest_1samp(a= sample, popmean= mu)         \n",
    "    \n",
    "    if (results[0]>t_crit) and (results[1]<alpha):\n",
    "        print (\"Null hypothesis rejected. Results are statistically significant with t-value =\", \n",
    "                round(results[0], 2), \"critical t-value =\", t_crit, \"and p-value =\", np.round((results[1]), 10))\n",
    "    else:\n",
    "        print (\"Null hypothesis is True with t-value =\", \n",
    "                round(results[0], 2), \", critical t-value =\", t_crit, \"and p-value =\", np.round((results[1]), 10))\n",
    "    "
   ]
  },
  {
   "cell_type": "code",
   "execution_count": 9,
   "metadata": {},
   "outputs": [],
   "source": [
    "def create_sample_distribution(data, dist_size=100, n=30):\n",
    "    sample_dist = []\n",
    "    while len(sample_dist) != dist_size:\n",
    "        sample = get_sample(data, n)\n",
    "        sample_mean = get_sample_mean(sample)\n",
    "        sample_dist.append(sample_mean)\n",
    "    \n",
    "    return sample_dist\n",
    "\n",
    "def get_sample(data, n):\n",
    "    sample = []\n",
    "    while len(sample) != n:\n",
    "        x = np.random.choice(data)\n",
    "        sample.append(x)\n",
    "    \n",
    "    return sample\n",
    "\n",
    "def get_sample_mean(sample):\n",
    "    return sum(sample) / len(sample)"
   ]
  },
  {
   "cell_type": "markdown",
   "metadata": {},
   "source": [
    "## Q1: Does discount amount have a statistically significant effect on the quantity of a product in an order? If so, at what level(s) of discount?"
   ]
  },
  {
   "cell_type": "markdown",
   "metadata": {},
   "source": [
    "### Exploratory Research"
   ]
  },
  {
   "cell_type": "code",
   "execution_count": 10,
   "metadata": {},
   "outputs": [
    {
     "data": {
      "text/html": [
       "<div>\n",
       "<style scoped>\n",
       "    .dataframe tbody tr th:only-of-type {\n",
       "        vertical-align: middle;\n",
       "    }\n",
       "\n",
       "    .dataframe tbody tr th {\n",
       "        vertical-align: top;\n",
       "    }\n",
       "\n",
       "    .dataframe thead th {\n",
       "        text-align: right;\n",
       "    }\n",
       "</style>\n",
       "<table border=\"1\" class=\"dataframe\">\n",
       "  <thead>\n",
       "    <tr style=\"text-align: right;\">\n",
       "      <th></th>\n",
       "      <th>Id</th>\n",
       "      <th>OrderId</th>\n",
       "      <th>ProductId</th>\n",
       "      <th>UnitPrice</th>\n",
       "      <th>Quantity</th>\n",
       "      <th>Discount</th>\n",
       "    </tr>\n",
       "  </thead>\n",
       "  <tbody>\n",
       "    <tr>\n",
       "      <th>0</th>\n",
       "      <td>10764/39</td>\n",
       "      <td>10764</td>\n",
       "      <td>39</td>\n",
       "      <td>18.00</td>\n",
       "      <td>130</td>\n",
       "      <td>0.10</td>\n",
       "    </tr>\n",
       "    <tr>\n",
       "      <th>1</th>\n",
       "      <td>11072/64</td>\n",
       "      <td>11072</td>\n",
       "      <td>64</td>\n",
       "      <td>33.25</td>\n",
       "      <td>130</td>\n",
       "      <td>0.00</td>\n",
       "    </tr>\n",
       "    <tr>\n",
       "      <th>2</th>\n",
       "      <td>10398/55</td>\n",
       "      <td>10398</td>\n",
       "      <td>55</td>\n",
       "      <td>19.20</td>\n",
       "      <td>120</td>\n",
       "      <td>0.10</td>\n",
       "    </tr>\n",
       "    <tr>\n",
       "      <th>3</th>\n",
       "      <td>10451/55</td>\n",
       "      <td>10451</td>\n",
       "      <td>55</td>\n",
       "      <td>19.20</td>\n",
       "      <td>120</td>\n",
       "      <td>0.10</td>\n",
       "    </tr>\n",
       "    <tr>\n",
       "      <th>4</th>\n",
       "      <td>10515/27</td>\n",
       "      <td>10515</td>\n",
       "      <td>27</td>\n",
       "      <td>43.90</td>\n",
       "      <td>120</td>\n",
       "      <td>0.00</td>\n",
       "    </tr>\n",
       "    <tr>\n",
       "      <th>5</th>\n",
       "      <td>10595/61</td>\n",
       "      <td>10595</td>\n",
       "      <td>61</td>\n",
       "      <td>28.50</td>\n",
       "      <td>120</td>\n",
       "      <td>0.25</td>\n",
       "    </tr>\n",
       "    <tr>\n",
       "      <th>6</th>\n",
       "      <td>10678/41</td>\n",
       "      <td>10678</td>\n",
       "      <td>41</td>\n",
       "      <td>9.65</td>\n",
       "      <td>120</td>\n",
       "      <td>0.00</td>\n",
       "    </tr>\n",
       "    <tr>\n",
       "      <th>7</th>\n",
       "      <td>10711/53</td>\n",
       "      <td>10711</td>\n",
       "      <td>53</td>\n",
       "      <td>32.80</td>\n",
       "      <td>120</td>\n",
       "      <td>0.00</td>\n",
       "    </tr>\n",
       "    <tr>\n",
       "      <th>8</th>\n",
       "      <td>10776/51</td>\n",
       "      <td>10776</td>\n",
       "      <td>51</td>\n",
       "      <td>53.00</td>\n",
       "      <td>120</td>\n",
       "      <td>0.05</td>\n",
       "    </tr>\n",
       "    <tr>\n",
       "      <th>9</th>\n",
       "      <td>10894/75</td>\n",
       "      <td>10894</td>\n",
       "      <td>75</td>\n",
       "      <td>7.75</td>\n",
       "      <td>120</td>\n",
       "      <td>0.05</td>\n",
       "    </tr>\n",
       "    <tr>\n",
       "      <th>10</th>\n",
       "      <td>10713/45</td>\n",
       "      <td>10713</td>\n",
       "      <td>45</td>\n",
       "      <td>9.50</td>\n",
       "      <td>110</td>\n",
       "      <td>0.00</td>\n",
       "    </tr>\n",
       "    <tr>\n",
       "      <th>11</th>\n",
       "      <td>10895/24</td>\n",
       "      <td>10895</td>\n",
       "      <td>24</td>\n",
       "      <td>4.50</td>\n",
       "      <td>110</td>\n",
       "      <td>0.00</td>\n",
       "    </tr>\n",
       "    <tr>\n",
       "      <th>12</th>\n",
       "      <td>11017/59</td>\n",
       "      <td>11017</td>\n",
       "      <td>59</td>\n",
       "      <td>55.00</td>\n",
       "      <td>110</td>\n",
       "      <td>0.00</td>\n",
       "    </tr>\n",
       "    <tr>\n",
       "      <th>13</th>\n",
       "      <td>10286/35</td>\n",
       "      <td>10286</td>\n",
       "      <td>35</td>\n",
       "      <td>14.40</td>\n",
       "      <td>100</td>\n",
       "      <td>0.00</td>\n",
       "    </tr>\n",
       "    <tr>\n",
       "      <th>14</th>\n",
       "      <td>10452/44</td>\n",
       "      <td>10452</td>\n",
       "      <td>44</td>\n",
       "      <td>15.50</td>\n",
       "      <td>100</td>\n",
       "      <td>0.05</td>\n",
       "    </tr>\n",
       "  </tbody>\n",
       "</table>\n",
       "</div>"
      ],
      "text/plain": [
       "          Id  OrderId  ProductId  UnitPrice  Quantity  Discount\n",
       "0   10764/39    10764         39      18.00       130      0.10\n",
       "1   11072/64    11072         64      33.25       130      0.00\n",
       "2   10398/55    10398         55      19.20       120      0.10\n",
       "3   10451/55    10451         55      19.20       120      0.10\n",
       "4   10515/27    10515         27      43.90       120      0.00\n",
       "5   10595/61    10595         61      28.50       120      0.25\n",
       "6   10678/41    10678         41       9.65       120      0.00\n",
       "7   10711/53    10711         53      32.80       120      0.00\n",
       "8   10776/51    10776         51      53.00       120      0.05\n",
       "9   10894/75    10894         75       7.75       120      0.05\n",
       "10  10713/45    10713         45       9.50       110      0.00\n",
       "11  10895/24    10895         24       4.50       110      0.00\n",
       "12  11017/59    11017         59      55.00       110      0.00\n",
       "13  10286/35    10286         35      14.40       100      0.00\n",
       "14  10452/44    10452         44      15.50       100      0.05"
      ]
     },
     "execution_count": 10,
     "metadata": {},
     "output_type": "execute_result"
    }
   ],
   "source": [
    "dfODetails = pd.read_sql_query(\"\"\"SELECT * FROM OrderDetail ORDER BY Quantity DESC;\"\"\", engine)\n",
    "dfODetails.head(15) #See what the data looks like"
   ]
  },
  {
   "cell_type": "code",
   "execution_count": 11,
   "metadata": {},
   "outputs": [
    {
     "name": "stdout",
     "output_type": "stream",
     "text": [
      "<class 'pandas.core.frame.DataFrame'>\n",
      "RangeIndex: 2155 entries, 0 to 2154\n",
      "Data columns (total 6 columns):\n",
      "Id           2155 non-null object\n",
      "OrderId      2155 non-null int64\n",
      "ProductId    2155 non-null int64\n",
      "UnitPrice    2155 non-null float64\n",
      "Quantity     2155 non-null int64\n",
      "Discount     2155 non-null float64\n",
      "dtypes: float64(2), int64(3), object(1)\n",
      "memory usage: 101.1+ KB\n",
      "None\n",
      "************************************\n"
     ]
    },
    {
     "data": {
      "text/plain": [
       "0.00    1317\n",
       "0.05     185\n",
       "0.10     173\n",
       "0.20     161\n",
       "0.15     157\n",
       "0.25     154\n",
       "0.03       3\n",
       "0.02       2\n",
       "0.04       1\n",
       "0.01       1\n",
       "0.06       1\n",
       "Name: Discount, dtype: int64"
      ]
     },
     "execution_count": 11,
     "metadata": {},
     "output_type": "execute_result"
    }
   ],
   "source": [
    "print(dfODetails.info()) #Check and see if any rows have null values\n",
    "print(\"************************************\")\n",
    "dfODetails.Discount.value_counts() #See how many dicounts are at each level"
   ]
  },
  {
   "cell_type": "code",
   "execution_count": 12,
   "metadata": {},
   "outputs": [
    {
     "data": {
      "text/plain": [
       "0.00    1317\n",
       "0.05     185\n",
       "0.10     173\n",
       "0.20     161\n",
       "0.15     157\n",
       "0.25     154\n",
       "Name: Discount, dtype: int64"
      ]
     },
     "execution_count": 12,
     "metadata": {},
     "output_type": "execute_result"
    }
   ],
   "source": [
    "#Drop outliers and check value counts again\n",
    "dfODetails = dfODetails[(dfODetails.Discount != 0.03) & (dfODetails.Discount != 0.06) & \n",
    "                         (dfODetails.Discount != 0.04) & (dfODetails.Discount != 0.02) &\n",
    "                         (dfODetails.Discount != 0.01)]\n",
    "dfODetails.Discount.value_counts()"
   ]
  },
  {
   "cell_type": "markdown",
   "metadata": {},
   "source": [
    "Since I ordered the data by quantity descending, we know that the amount of product in each order ranges from 1-130. I'm going to bin these amounts just to make it easier to see how much quantity is in each purchase."
   ]
  },
  {
   "cell_type": "code",
   "execution_count": 13,
   "metadata": {},
   "outputs": [],
   "source": [
    "binned = [1, 10, 25, 50, 75, 100, 130]\n",
    "dfODetails['binned'] = pd.cut(dfODetails['Quantity'], binned)"
   ]
  },
  {
   "cell_type": "code",
   "execution_count": 14,
   "metadata": {
    "scrolled": true
   },
   "outputs": [
    {
     "data": {
      "text/plain": [
       "<matplotlib.axes._subplots.AxesSubplot at 0x12329fb38>"
      ]
     },
     "execution_count": 14,
     "metadata": {},
     "output_type": "execute_result"
    },
    {
     "data": {
      "image/png": "[encoded data removed]",
      "text/plain": [
       "<Figure size 432x288 with 1 Axes>"
      ]
     },
     "metadata": {},
     "output_type": "display_data"
    }
   ],
   "source": [
    "sns.boxenplot(dfODetails.Discount, dfODetails.Quantity)"
   ]
  },
  {
   "cell_type": "code",
   "execution_count": 15,
   "metadata": {},
   "outputs": [],
   "source": [
    "dfnodiscount = dfODetails[dfODetails['Discount']==0]['Quantity']\n",
    "dfdiscount = dfODetails[dfODetails['Discount']!=0]['Quantity']"
   ]
  },
  {
   "cell_type": "code",
   "execution_count": 16,
   "metadata": {},
   "outputs": [
    {
     "data": {
      "text/plain": [
       "1     130\n",
       "4     120\n",
       "6     120\n",
       "7     120\n",
       "10    110\n",
       "Name: Quantity, dtype: int64"
      ]
     },
     "execution_count": 16,
     "metadata": {},
     "output_type": "execute_result"
    }
   ],
   "source": [
    "dfnodiscount.head()"
   ]
  },
  {
   "cell_type": "code",
   "execution_count": 17,
   "metadata": {},
   "outputs": [
    {
     "data": {
      "image/png": "[encoded data removed]",
      "text/plain": [
       "<Figure size 720x720 with 6 Axes>"
      ]
     },
     "metadata": {},
     "output_type": "display_data"
    }
   ],
   "source": [
    "dfODetails.hist('Quantity', by='Discount', figsize=(10, 10));"
   ]
  },
  {
   "cell_type": "code",
   "execution_count": 18,
   "metadata": {},
   "outputs": [
    {
     "data": {
      "text/plain": [
       "<matplotlib.legend.Legend at 0x123dc8d30>"
      ]
     },
     "execution_count": 18,
     "metadata": {},
     "output_type": "execute_result"
    },
    {
     "data": {
      "image/png": "[encoded data removed]",
      "text/plain": [
       "<Figure size 720x432 with 1 Axes>"
      ]
     },
     "metadata": {},
     "output_type": "display_data"
    }
   ],
   "source": [
    "plt.figure(figsize=(10,6))\n",
    "sns.distplot(dfdiscount, bins=50,  label='Discounts')\n",
    "sns.distplot(dfnodiscount, bins=50,  label='No Discounts')\n",
    "\n",
    "plt.axvline(x=dfnodiscount.mean(), color='k', linestyle='--')\n",
    "plt.axvline(x=dfdiscount.mean(), color='k', linestyle='--')\n",
    "plt.legend()"
   ]
  },
  {
   "cell_type": "markdown",
   "metadata": {},
   "source": [
    "### Define Hypothesis\n",
    "\n",
    "$H_{0}$: Offering a discount does not effect the amount of product ordered.\n",
    "\n",
    "$H_{a}$: Offering a disount will cause customers to order more product.\n",
    "\n",
    "This will be a **one-tail** test to test since I specified that I am specifically looking for the quantity to be _more than_ with a discount offered.\n"
   ]
  },
  {
   "cell_type": "markdown",
   "metadata": {},
   "source": [
    "### Statistical Testing"
   ]
  },
  {
   "cell_type": "code",
   "execution_count": 19,
   "metadata": {},
   "outputs": [
    {
     "name": "stdout",
     "output_type": "stream",
     "text": [
      "4.177518211247093\n",
      "3.442289043589471\n"
     ]
    }
   ],
   "source": [
    "print(welch_t(dfODetails.Quantity, dfdiscount))\n",
    "print(welch_t(dfODetails.Quantity, dfnodiscount))"
   ]
  },
  {
   "cell_type": "code",
   "execution_count": 20,
   "metadata": {},
   "outputs": [
    {
     "name": "stdout",
     "output_type": "stream",
     "text": [
      "Welch_df Q/Discount:  1399.0\n",
      "Welch_df Q/No Discount:  2959.0\n",
      "Welch_df No Discount/Discount:  1546.0\n"
     ]
    }
   ],
   "source": [
    "print('Welch_df Q/Discount: ', welch_df(dfODetails.Quantity, dfdiscount))\n",
    "print('Welch_df Q/No Discount: ', welch_df(dfODetails.Quantity, dfnodiscount))\n",
    "print('Welch_df No Discount/Discount: ', welch_df(dfnodiscount, dfdiscount))"
   ]
  },
  {
   "cell_type": "code",
   "execution_count": 21,
   "metadata": {},
   "outputs": [
    {
     "name": "stdout",
     "output_type": "stream",
     "text": [
      "P_value: Q/Discount:  1.564737360626456e-05\n",
      "P_value: Q/No Discount:  0.0002924085768452045\n",
      "P_value: No Discount/Discount:  5.025324600893555e-11\n"
     ]
    }
   ],
   "source": [
    "print('P_value: Q/Discount: ', p_value(dfODetails.Quantity, dfdiscount))\n",
    "print('P_value: Q/No Discount: ',p_value(dfODetails.Quantity, dfnodiscount))\n",
    "print('P_value: No Discount/Discount: ',p_value(dfnodiscount, dfdiscount))"
   ]
  },
  {
   "cell_type": "code",
   "execution_count": 22,
   "metadata": {},
   "outputs": [
    {
     "name": "stdout",
     "output_type": "stream",
     "text": [
      "d:  -0.1773695423055324\n",
      "None\n",
      "d:  0.11813536855628178\n",
      "None\n",
      "d:  -0.29970787209408895\n",
      "None\n"
     ]
    }
   ],
   "source": [
    "print(Cohen_d(dfODetails.Quantity, dfdiscount))\n",
    "print(Cohen_d(dfODetails.Quantity, dfnodiscount))\n",
    "print(Cohen_d(dfnodiscount, dfdiscount))"
   ]
  },
  {
   "cell_type": "markdown",
   "metadata": {},
   "source": [
    "### Conclusions"
   ]
  },
  {
   "cell_type": "markdown",
   "metadata": {},
   "source": [
    "Here we can see that discounts do indeed make a difference, albeit a small one, in the amount of quantity ordered when offered a discount. We can tell it is a small difference because of Cohen's D. We can also tell that offering a discount has a bigger effect size than not, beause the Cohen's D statistic is slightly larger."
   ]
  },
  {
   "cell_type": "markdown",
   "metadata": {},
   "source": [
    "## Q2: Do discounts have a greater effect on quantity of products ordered in a single transaction or the amount of total transactions?"
   ]
  },
  {
   "cell_type": "markdown",
   "metadata": {},
   "source": [
    "### Exploratory Research"
   ]
  },
  {
   "cell_type": "code",
   "execution_count": 23,
   "metadata": {},
   "outputs": [
    {
     "data": {
      "text/html": [
       "<div>\n",
       "<style scoped>\n",
       "    .dataframe tbody tr th:only-of-type {\n",
       "        vertical-align: middle;\n",
       "    }\n",
       "\n",
       "    .dataframe tbody tr th {\n",
       "        vertical-align: top;\n",
       "    }\n",
       "\n",
       "    .dataframe thead th {\n",
       "        text-align: right;\n",
       "    }\n",
       "</style>\n",
       "<table border=\"1\" class=\"dataframe\">\n",
       "  <thead>\n",
       "    <tr style=\"text-align: right;\">\n",
       "      <th></th>\n",
       "      <th>OrderId</th>\n",
       "      <th>ProductId</th>\n",
       "      <th>Quantity</th>\n",
       "      <th>Discount</th>\n",
       "      <th>ProductName</th>\n",
       "      <th>QuantityPerUnit</th>\n",
       "      <th>UnitPrice</th>\n",
       "      <th>UnitsOnOrder</th>\n",
       "    </tr>\n",
       "  </thead>\n",
       "  <tbody>\n",
       "    <tr>\n",
       "      <th>0</th>\n",
       "      <td>10248</td>\n",
       "      <td>72</td>\n",
       "      <td>5</td>\n",
       "      <td>0.0</td>\n",
       "      <td>Mozzarella di Giovanni</td>\n",
       "      <td>24 - 200 g pkgs.</td>\n",
       "      <td>34.80</td>\n",
       "      <td>0</td>\n",
       "    </tr>\n",
       "    <tr>\n",
       "      <th>1</th>\n",
       "      <td>10249</td>\n",
       "      <td>51</td>\n",
       "      <td>40</td>\n",
       "      <td>0.0</td>\n",
       "      <td>Manjimup Dried Apples</td>\n",
       "      <td>50 - 300 g pkgs.</td>\n",
       "      <td>53.00</td>\n",
       "      <td>0</td>\n",
       "    </tr>\n",
       "    <tr>\n",
       "      <th>2</th>\n",
       "      <td>10250</td>\n",
       "      <td>41</td>\n",
       "      <td>10</td>\n",
       "      <td>0.0</td>\n",
       "      <td>Jack's New England Clam Chowder</td>\n",
       "      <td>12 - 12 oz cans</td>\n",
       "      <td>9.65</td>\n",
       "      <td>0</td>\n",
       "    </tr>\n",
       "    <tr>\n",
       "      <th>3</th>\n",
       "      <td>10251</td>\n",
       "      <td>65</td>\n",
       "      <td>20</td>\n",
       "      <td>0.0</td>\n",
       "      <td>Louisiana Fiery Hot Pepper Sauce</td>\n",
       "      <td>32 - 8 oz bottles</td>\n",
       "      <td>21.05</td>\n",
       "      <td>0</td>\n",
       "    </tr>\n",
       "    <tr>\n",
       "      <th>4</th>\n",
       "      <td>10252</td>\n",
       "      <td>60</td>\n",
       "      <td>40</td>\n",
       "      <td>0.0</td>\n",
       "      <td>Camembert Pierrot</td>\n",
       "      <td>15 - 300 g rounds</td>\n",
       "      <td>34.00</td>\n",
       "      <td>0</td>\n",
       "    </tr>\n",
       "  </tbody>\n",
       "</table>\n",
       "</div>"
      ],
      "text/plain": [
       "   OrderId  ProductId  Quantity  Discount                       ProductName  \\\n",
       "0    10248         72         5       0.0            Mozzarella di Giovanni   \n",
       "1    10249         51        40       0.0             Manjimup Dried Apples   \n",
       "2    10250         41        10       0.0   Jack's New England Clam Chowder   \n",
       "3    10251         65        20       0.0  Louisiana Fiery Hot Pepper Sauce   \n",
       "4    10252         60        40       0.0                 Camembert Pierrot   \n",
       "\n",
       "     QuantityPerUnit  UnitPrice  UnitsOnOrder  \n",
       "0   24 - 200 g pkgs.      34.80             0  \n",
       "1   50 - 300 g pkgs.      53.00             0  \n",
       "2    12 - 12 oz cans       9.65             0  \n",
       "3  32 - 8 oz bottles      21.05             0  \n",
       "4  15 - 300 g rounds      34.00             0  "
      ]
     },
     "execution_count": 23,
     "metadata": {},
     "output_type": "execute_result"
    }
   ],
   "source": [
    "df1 = pd.read_sql_query(\"\"\"SELECT od.OrderID, od.ProductID, od.Quantity, od.Discount,\n",
    "                                p.ProductName, p.QuantityPerUnit, p.UnitPrice, p.UnitsOnOrder\n",
    "                                FROM OrderDetail od\n",
    "                                JOIN Product p ON od.ProductID = p.ID\n",
    "                                WHERE od.Discount = 0.0\n",
    "                                GROUP BY OrderID;\"\"\", engine)\n",
    "df1.head()"
   ]
  },
  {
   "cell_type": "code",
   "execution_count": 24,
   "metadata": {},
   "outputs": [
    {
     "name": "stdout",
     "output_type": "stream",
     "text": [
      "<class 'pandas.core.frame.DataFrame'>\n",
      "RangeIndex: 613 entries, 0 to 612\n",
      "Data columns (total 8 columns):\n",
      "OrderId            613 non-null int64\n",
      "ProductId          613 non-null int64\n",
      "Quantity           613 non-null int64\n",
      "Discount           613 non-null float64\n",
      "ProductName        613 non-null object\n",
      "QuantityPerUnit    613 non-null object\n",
      "UnitPrice          613 non-null float64\n",
      "UnitsOnOrder       613 non-null int64\n",
      "dtypes: float64(2), int64(4), object(2)\n",
      "memory usage: 38.4+ KB\n"
     ]
    }
   ],
   "source": [
    "df1.info()"
   ]
  },
  {
   "cell_type": "code",
   "execution_count": 25,
   "metadata": {},
   "outputs": [
    {
     "data": {
      "text/plain": [
       "613"
      ]
     },
     "execution_count": 25,
     "metadata": {},
     "output_type": "execute_result"
    }
   ],
   "source": [
    "len(df1.Quantity)"
   ]
  },
  {
   "cell_type": "code",
   "execution_count": 26,
   "metadata": {},
   "outputs": [
    {
     "data": {
      "image/png": "[encoded data removed]",
      "text/plain": [
       "<Figure size 432x288 with 1 Axes>"
      ]
     },
     "metadata": {},
     "output_type": "display_data"
    }
   ],
   "source": [
    "df1['Quantity'] = create_sample_distribution(df1['Quantity'], 613, 30)\n",
    "sns.distplot(df1['Quantity']);"
   ]
  },
  {
   "cell_type": "code",
   "execution_count": 27,
   "metadata": {},
   "outputs": [
    {
     "data": {
      "text/html": [
       "<div>\n",
       "<style scoped>\n",
       "    .dataframe tbody tr th:only-of-type {\n",
       "        vertical-align: middle;\n",
       "    }\n",
       "\n",
       "    .dataframe tbody tr th {\n",
       "        vertical-align: top;\n",
       "    }\n",
       "\n",
       "    .dataframe thead th {\n",
       "        text-align: right;\n",
       "    }\n",
       "</style>\n",
       "<table border=\"1\" class=\"dataframe\">\n",
       "  <thead>\n",
       "    <tr style=\"text-align: right;\">\n",
       "      <th></th>\n",
       "      <th>OrderId</th>\n",
       "      <th>ProductId</th>\n",
       "      <th>Quantity</th>\n",
       "      <th>Discount</th>\n",
       "      <th>UnitPrice</th>\n",
       "      <th>UnitsOnOrder</th>\n",
       "    </tr>\n",
       "  </thead>\n",
       "  <tbody>\n",
       "    <tr>\n",
       "      <th>count</th>\n",
       "      <td>613.000000</td>\n",
       "      <td>613.000000</td>\n",
       "      <td>613.000000</td>\n",
       "      <td>613.0</td>\n",
       "      <td>613.000000</td>\n",
       "      <td>613.000000</td>\n",
       "    </tr>\n",
       "    <tr>\n",
       "      <th>mean</th>\n",
       "      <td>10659.962480</td>\n",
       "      <td>52.562806</td>\n",
       "      <td>20.957640</td>\n",
       "      <td>0.0</td>\n",
       "      <td>27.228842</td>\n",
       "      <td>6.998369</td>\n",
       "    </tr>\n",
       "    <tr>\n",
       "      <th>std</th>\n",
       "      <td>243.830496</td>\n",
       "      <td>19.758213</td>\n",
       "      <td>2.919131</td>\n",
       "      <td>0.0</td>\n",
       "      <td>29.484755</td>\n",
       "      <td>18.746546</td>\n",
       "    </tr>\n",
       "    <tr>\n",
       "      <th>min</th>\n",
       "      <td>10248.000000</td>\n",
       "      <td>1.000000</td>\n",
       "      <td>13.200000</td>\n",
       "      <td>0.0</td>\n",
       "      <td>2.500000</td>\n",
       "      <td>0.000000</td>\n",
       "    </tr>\n",
       "    <tr>\n",
       "      <th>25%</th>\n",
       "      <td>10444.000000</td>\n",
       "      <td>40.000000</td>\n",
       "      <td>19.033333</td>\n",
       "      <td>0.0</td>\n",
       "      <td>13.000000</td>\n",
       "      <td>0.000000</td>\n",
       "    </tr>\n",
       "    <tr>\n",
       "      <th>50%</th>\n",
       "      <td>10666.000000</td>\n",
       "      <td>57.000000</td>\n",
       "      <td>20.800000</td>\n",
       "      <td>0.0</td>\n",
       "      <td>19.450000</td>\n",
       "      <td>0.000000</td>\n",
       "    </tr>\n",
       "    <tr>\n",
       "      <th>75%</th>\n",
       "      <td>10875.000000</td>\n",
       "      <td>70.000000</td>\n",
       "      <td>22.766667</td>\n",
       "      <td>0.0</td>\n",
       "      <td>34.800000</td>\n",
       "      <td>0.000000</td>\n",
       "    </tr>\n",
       "    <tr>\n",
       "      <th>max</th>\n",
       "      <td>11077.000000</td>\n",
       "      <td>77.000000</td>\n",
       "      <td>32.633333</td>\n",
       "      <td>0.0</td>\n",
       "      <td>263.500000</td>\n",
       "      <td>100.000000</td>\n",
       "    </tr>\n",
       "  </tbody>\n",
       "</table>\n",
       "</div>"
      ],
      "text/plain": [
       "            OrderId   ProductId    Quantity  Discount   UnitPrice  \\\n",
       "count    613.000000  613.000000  613.000000     613.0  613.000000   \n",
       "mean   10659.962480   52.562806   20.957640       0.0   27.228842   \n",
       "std      243.830496   19.758213    2.919131       0.0   29.484755   \n",
       "min    10248.000000    1.000000   13.200000       0.0    2.500000   \n",
       "25%    10444.000000   40.000000   19.033333       0.0   13.000000   \n",
       "50%    10666.000000   57.000000   20.800000       0.0   19.450000   \n",
       "75%    10875.000000   70.000000   22.766667       0.0   34.800000   \n",
       "max    11077.000000   77.000000   32.633333       0.0  263.500000   \n",
       "\n",
       "       UnitsOnOrder  \n",
       "count    613.000000  \n",
       "mean       6.998369  \n",
       "std       18.746546  \n",
       "min        0.000000  \n",
       "25%        0.000000  \n",
       "50%        0.000000  \n",
       "75%        0.000000  \n",
       "max      100.000000  "
      ]
     },
     "execution_count": 27,
     "metadata": {},
     "output_type": "execute_result"
    }
   ],
   "source": [
    "df1.describe()"
   ]
  },
  {
   "cell_type": "code",
   "execution_count": 28,
   "metadata": {},
   "outputs": [
    {
     "data": {
      "text/html": [
       "<div>\n",
       "<style scoped>\n",
       "    .dataframe tbody tr th:only-of-type {\n",
       "        vertical-align: middle;\n",
       "    }\n",
       "\n",
       "    .dataframe tbody tr th {\n",
       "        vertical-align: top;\n",
       "    }\n",
       "\n",
       "    .dataframe thead th {\n",
       "        text-align: right;\n",
       "    }\n",
       "</style>\n",
       "<table border=\"1\" class=\"dataframe\">\n",
       "  <thead>\n",
       "    <tr style=\"text-align: right;\">\n",
       "      <th></th>\n",
       "      <th>OrderId</th>\n",
       "      <th>ProductId</th>\n",
       "      <th>Quantity</th>\n",
       "      <th>Discount</th>\n",
       "      <th>ProductName</th>\n",
       "      <th>QuantityPerUnit</th>\n",
       "      <th>UnitPrice</th>\n",
       "      <th>UnitsOnOrder</th>\n",
       "    </tr>\n",
       "  </thead>\n",
       "  <tbody>\n",
       "    <tr>\n",
       "      <th>0</th>\n",
       "      <td>10250</td>\n",
       "      <td>65</td>\n",
       "      <td>15</td>\n",
       "      <td>0.15</td>\n",
       "      <td>Louisiana Fiery Hot Pepper Sauce</td>\n",
       "      <td>32 - 8 oz bottles</td>\n",
       "      <td>21.05</td>\n",
       "      <td>0</td>\n",
       "    </tr>\n",
       "    <tr>\n",
       "      <th>1</th>\n",
       "      <td>10251</td>\n",
       "      <td>57</td>\n",
       "      <td>15</td>\n",
       "      <td>0.05</td>\n",
       "      <td>Ravioli Angelo</td>\n",
       "      <td>24 - 250 g pkgs.</td>\n",
       "      <td>19.50</td>\n",
       "      <td>0</td>\n",
       "    </tr>\n",
       "    <tr>\n",
       "      <th>2</th>\n",
       "      <td>10252</td>\n",
       "      <td>33</td>\n",
       "      <td>25</td>\n",
       "      <td>0.05</td>\n",
       "      <td>Geitost</td>\n",
       "      <td>500 g</td>\n",
       "      <td>2.50</td>\n",
       "      <td>0</td>\n",
       "    </tr>\n",
       "    <tr>\n",
       "      <th>3</th>\n",
       "      <td>10254</td>\n",
       "      <td>55</td>\n",
       "      <td>21</td>\n",
       "      <td>0.15</td>\n",
       "      <td>Pâté chinois</td>\n",
       "      <td>24 boxes x 2 pies</td>\n",
       "      <td>24.00</td>\n",
       "      <td>0</td>\n",
       "    </tr>\n",
       "    <tr>\n",
       "      <th>4</th>\n",
       "      <td>10258</td>\n",
       "      <td>32</td>\n",
       "      <td>6</td>\n",
       "      <td>0.20</td>\n",
       "      <td>Mascarpone Fabioli</td>\n",
       "      <td>24 - 200 g pkgs.</td>\n",
       "      <td>32.00</td>\n",
       "      <td>40</td>\n",
       "    </tr>\n",
       "  </tbody>\n",
       "</table>\n",
       "</div>"
      ],
      "text/plain": [
       "   OrderId  ProductId  Quantity  Discount                       ProductName  \\\n",
       "0    10250         65        15      0.15  Louisiana Fiery Hot Pepper Sauce   \n",
       "1    10251         57        15      0.05                    Ravioli Angelo   \n",
       "2    10252         33        25      0.05                           Geitost   \n",
       "3    10254         55        21      0.15                      Pâté chinois   \n",
       "4    10258         32         6      0.20                Mascarpone Fabioli   \n",
       "\n",
       "     QuantityPerUnit  UnitPrice  UnitsOnOrder  \n",
       "0  32 - 8 oz bottles      21.05             0  \n",
       "1   24 - 250 g pkgs.      19.50             0  \n",
       "2              500 g       2.50             0  \n",
       "3  24 boxes x 2 pies      24.00             0  \n",
       "4   24 - 200 g pkgs.      32.00            40  "
      ]
     },
     "execution_count": 28,
     "metadata": {},
     "output_type": "execute_result"
    }
   ],
   "source": [
    "df2 = pd.read_sql_query(\"\"\"SELECT od.OrderID, od.ProductID, od.Quantity, od.Discount,\n",
    "                                p.ProductName, p.QuantityPerUnit, p.UnitPrice, p.UnitsOnOrder\n",
    "                                FROM OrderDetail od\n",
    "                                JOIN Product p ON od.ProductID = p.ID\n",
    "                                WHERE od.Discount IS NOT 0.0\n",
    "                                GROUP BY OrderID;\"\"\", engine)\n",
    "df2.head()"
   ]
  },
  {
   "cell_type": "code",
   "execution_count": 29,
   "metadata": {},
   "outputs": [
    {
     "data": {
      "text/html": [
       "<div>\n",
       "<style scoped>\n",
       "    .dataframe tbody tr th:only-of-type {\n",
       "        vertical-align: middle;\n",
       "    }\n",
       "\n",
       "    .dataframe tbody tr th {\n",
       "        vertical-align: top;\n",
       "    }\n",
       "\n",
       "    .dataframe thead th {\n",
       "        text-align: right;\n",
       "    }\n",
       "</style>\n",
       "<table border=\"1\" class=\"dataframe\">\n",
       "  <thead>\n",
       "    <tr style=\"text-align: right;\">\n",
       "      <th></th>\n",
       "      <th>OrderId</th>\n",
       "      <th>ProductId</th>\n",
       "      <th>Quantity</th>\n",
       "      <th>Discount</th>\n",
       "      <th>UnitPrice</th>\n",
       "      <th>UnitsOnOrder</th>\n",
       "    </tr>\n",
       "  </thead>\n",
       "  <tbody>\n",
       "    <tr>\n",
       "      <th>count</th>\n",
       "      <td>380.000000</td>\n",
       "      <td>380.000000</td>\n",
       "      <td>380.000000</td>\n",
       "      <td>380.000000</td>\n",
       "      <td>380.000000</td>\n",
       "      <td>380.000000</td>\n",
       "    </tr>\n",
       "    <tr>\n",
       "      <th>mean</th>\n",
       "      <td>10659.555263</td>\n",
       "      <td>50.981579</td>\n",
       "      <td>27.381579</td>\n",
       "      <td>0.145684</td>\n",
       "      <td>25.570921</td>\n",
       "      <td>5.605263</td>\n",
       "    </tr>\n",
       "    <tr>\n",
       "      <th>std</th>\n",
       "      <td>234.869401</td>\n",
       "      <td>20.091405</td>\n",
       "      <td>22.361722</td>\n",
       "      <td>0.071868</td>\n",
       "      <td>25.257382</td>\n",
       "      <td>16.418086</td>\n",
       "    </tr>\n",
       "    <tr>\n",
       "      <th>min</th>\n",
       "      <td>10250.000000</td>\n",
       "      <td>1.000000</td>\n",
       "      <td>2.000000</td>\n",
       "      <td>0.010000</td>\n",
       "      <td>2.500000</td>\n",
       "      <td>0.000000</td>\n",
       "    </tr>\n",
       "    <tr>\n",
       "      <th>25%</th>\n",
       "      <td>10460.750000</td>\n",
       "      <td>38.000000</td>\n",
       "      <td>12.000000</td>\n",
       "      <td>0.100000</td>\n",
       "      <td>12.500000</td>\n",
       "      <td>0.000000</td>\n",
       "    </tr>\n",
       "    <tr>\n",
       "      <th>50%</th>\n",
       "      <td>10649.000000</td>\n",
       "      <td>55.000000</td>\n",
       "      <td>20.000000</td>\n",
       "      <td>0.150000</td>\n",
       "      <td>19.000000</td>\n",
       "      <td>0.000000</td>\n",
       "    </tr>\n",
       "    <tr>\n",
       "      <th>75%</th>\n",
       "      <td>10854.250000</td>\n",
       "      <td>68.000000</td>\n",
       "      <td>35.000000</td>\n",
       "      <td>0.200000</td>\n",
       "      <td>34.000000</td>\n",
       "      <td>0.000000</td>\n",
       "    </tr>\n",
       "    <tr>\n",
       "      <th>max</th>\n",
       "      <td>11077.000000</td>\n",
       "      <td>77.000000</td>\n",
       "      <td>130.000000</td>\n",
       "      <td>0.250000</td>\n",
       "      <td>263.500000</td>\n",
       "      <td>80.000000</td>\n",
       "    </tr>\n",
       "  </tbody>\n",
       "</table>\n",
       "</div>"
      ],
      "text/plain": [
       "            OrderId   ProductId    Quantity    Discount   UnitPrice  \\\n",
       "count    380.000000  380.000000  380.000000  380.000000  380.000000   \n",
       "mean   10659.555263   50.981579   27.381579    0.145684   25.570921   \n",
       "std      234.869401   20.091405   22.361722    0.071868   25.257382   \n",
       "min    10250.000000    1.000000    2.000000    0.010000    2.500000   \n",
       "25%    10460.750000   38.000000   12.000000    0.100000   12.500000   \n",
       "50%    10649.000000   55.000000   20.000000    0.150000   19.000000   \n",
       "75%    10854.250000   68.000000   35.000000    0.200000   34.000000   \n",
       "max    11077.000000   77.000000  130.000000    0.250000  263.500000   \n",
       "\n",
       "       UnitsOnOrder  \n",
       "count    380.000000  \n",
       "mean       5.605263  \n",
       "std       16.418086  \n",
       "min        0.000000  \n",
       "25%        0.000000  \n",
       "50%        0.000000  \n",
       "75%        0.000000  \n",
       "max       80.000000  "
      ]
     },
     "execution_count": 29,
     "metadata": {},
     "output_type": "execute_result"
    }
   ],
   "source": [
    "df2.describe()"
   ]
  },
  {
   "cell_type": "code",
   "execution_count": 30,
   "metadata": {},
   "outputs": [
    {
     "name": "stdout",
     "output_type": "stream",
     "text": [
      "<class 'pandas.core.frame.DataFrame'>\n",
      "RangeIndex: 380 entries, 0 to 379\n",
      "Data columns (total 8 columns):\n",
      "OrderId            380 non-null int64\n",
      "ProductId          380 non-null int64\n",
      "Quantity           380 non-null int64\n",
      "Discount           380 non-null float64\n",
      "ProductName        380 non-null object\n",
      "QuantityPerUnit    380 non-null object\n",
      "UnitPrice          380 non-null float64\n",
      "UnitsOnOrder       380 non-null int64\n",
      "dtypes: float64(2), int64(4), object(2)\n",
      "memory usage: 23.9+ KB\n"
     ]
    }
   ],
   "source": [
    "df2.info()"
   ]
  },
  {
   "cell_type": "code",
   "execution_count": 31,
   "metadata": {},
   "outputs": [
    {
     "data": {
      "image/png": "[encoded data removed]",
      "text/plain": [
       "<Figure size 432x288 with 1 Axes>"
      ]
     },
     "metadata": {},
     "output_type": "display_data"
    }
   ],
   "source": [
    "df2['Quantity'] = create_sample_distribution(df2['Quantity'], 380, 10)\n",
    "sns.distplot(df2['Quantity']);"
   ]
  },
  {
   "cell_type": "code",
   "execution_count": 32,
   "metadata": {},
   "outputs": [],
   "source": [
    "# sns.distplot(df2['Quantity'], kde=False);\n",
    "# plt.axvline(0, color=\"k\", linestyle=\"--\");"
   ]
  },
  {
   "cell_type": "markdown",
   "metadata": {},
   "source": [
    "### Define Hypothesis\n",
    "\n",
    "$H_{0}$: Offering a discount will not have an effect on total orders.\n",
    "\n",
    "$H_{a}$ Offering a discount will cause an increase in total orders.\n",
    "\n",
    "This will be a one-tailed test since I am specifically looking for the discounts to cause the amount of orders placed  to be _more than_ if there were no discounts offered"
   ]
  },
  {
   "cell_type": "markdown",
   "metadata": {},
   "source": [
    "### Statistical Testing"
   ]
  },
  {
   "cell_type": "code",
   "execution_count": 33,
   "metadata": {},
   "outputs": [
    {
     "name": "stdout",
     "output_type": "stream",
     "text": [
      "Null hypothesis is True with t-value = -2.07 , critical t-value = 1.647347241930401 and p-value = 0.0386314665\n"
     ]
    },
    {
     "data": {
      "image/png": "[encoded data removed]",
      "text/plain": [
       "<Figure size 864x720 with 1 Axes>"
      ]
     },
     "metadata": {},
     "output_type": "display_data"
    }
   ],
   "source": [
    "sample=df1.Quantity\n",
    "popmean= 21.202\n",
    "alpha= 0.05\n",
    "one_sample_ttest(sample, popmean, alpha)"
   ]
  },
  {
   "cell_type": "code",
   "execution_count": 34,
   "metadata": {},
   "outputs": [
    {
     "name": "stdout",
     "output_type": "stream",
     "text": [
      "Null hypothesis is True with t-value = -0.9 , critical t-value = 1.648884031269217 and p-value = 0.3673508098\n"
     ]
    },
    {
     "data": {
      "image/png": "[encoded data removed]",
      "text/plain": [
       "<Figure size 864x720 with 1 Axes>"
      ]
     },
     "metadata": {},
     "output_type": "display_data"
    }
   ],
   "source": [
    "sample=df2.Quantity\n",
    "popmean= 27.38\n",
    "alpha= 0.05\n",
    "one_sample_ttest(sample, popmean, alpha)"
   ]
  },
  {
   "cell_type": "code",
   "execution_count": 35,
   "metadata": {},
   "outputs": [
    {
     "data": {
      "text/plain": [
       "16.44767621423066"
      ]
     },
     "execution_count": 35,
     "metadata": {},
     "output_type": "execute_result"
    }
   ],
   "source": [
    "welch_t(df1.Quantity, df2.Quantity)"
   ]
  },
  {
   "cell_type": "code",
   "execution_count": 36,
   "metadata": {},
   "outputs": [
    {
     "data": {
      "text/plain": [
       "0.0"
      ]
     },
     "execution_count": 36,
     "metadata": {},
     "output_type": "execute_result"
    }
   ],
   "source": [
    "p_value(df1.Quantity, df2.Quantity)"
   ]
  },
  {
   "cell_type": "code",
   "execution_count": 37,
   "metadata": {},
   "outputs": [
    {
     "name": "stdout",
     "output_type": "stream",
     "text": [
      "d:  -1.2654704107632482\n"
     ]
    }
   ],
   "source": [
    "Cohen_d(df1.Quantity, df2.Quantity)"
   ]
  },
  {
   "cell_type": "markdown",
   "metadata": {},
   "source": [
    "### Conclusions"
   ]
  },
  {
   "cell_type": "markdown",
   "metadata": {},
   "source": [
    "This is the same test ran before, but with different results and I'm not sure why. The p_value is also zero which is puzzling."
   ]
  },
  {
   "cell_type": "markdown",
   "metadata": {},
   "source": [
    "## Q3: Do employees hired in different months have different productivity in sales?"
   ]
  },
  {
   "cell_type": "markdown",
   "metadata": {},
   "source": [
    "### Exploratory Research"
   ]
  },
  {
   "cell_type": "code",
   "execution_count": 38,
   "metadata": {},
   "outputs": [
    {
     "data": {
      "text/html": [
       "<div>\n",
       "<style scoped>\n",
       "    .dataframe tbody tr th:only-of-type {\n",
       "        vertical-align: middle;\n",
       "    }\n",
       "\n",
       "    .dataframe tbody tr th {\n",
       "        vertical-align: top;\n",
       "    }\n",
       "\n",
       "    .dataframe thead th {\n",
       "        text-align: right;\n",
       "    }\n",
       "</style>\n",
       "<table border=\"1\" class=\"dataframe\">\n",
       "  <thead>\n",
       "    <tr style=\"text-align: right;\">\n",
       "      <th></th>\n",
       "      <th>Id</th>\n",
       "      <th>LastName</th>\n",
       "      <th>FirstName</th>\n",
       "      <th>HireDate</th>\n",
       "      <th>BirthDate</th>\n",
       "      <th>OrderId</th>\n",
       "      <th>UnitPrice</th>\n",
       "      <th>Quantity</th>\n",
       "    </tr>\n",
       "  </thead>\n",
       "  <tbody>\n",
       "    <tr>\n",
       "      <th>0</th>\n",
       "      <td>5</td>\n",
       "      <td>Buchanan</td>\n",
       "      <td>Steven</td>\n",
       "      <td>2025-10-17</td>\n",
       "      <td>1987-03-04</td>\n",
       "      <td>10248</td>\n",
       "      <td>14.0</td>\n",
       "      <td>12</td>\n",
       "    </tr>\n",
       "    <tr>\n",
       "      <th>1</th>\n",
       "      <td>5</td>\n",
       "      <td>Buchanan</td>\n",
       "      <td>Steven</td>\n",
       "      <td>2025-10-17</td>\n",
       "      <td>1987-03-04</td>\n",
       "      <td>10248</td>\n",
       "      <td>9.8</td>\n",
       "      <td>10</td>\n",
       "    </tr>\n",
       "    <tr>\n",
       "      <th>2</th>\n",
       "      <td>5</td>\n",
       "      <td>Buchanan</td>\n",
       "      <td>Steven</td>\n",
       "      <td>2025-10-17</td>\n",
       "      <td>1987-03-04</td>\n",
       "      <td>10248</td>\n",
       "      <td>34.8</td>\n",
       "      <td>5</td>\n",
       "    </tr>\n",
       "    <tr>\n",
       "      <th>3</th>\n",
       "      <td>6</td>\n",
       "      <td>Suyama</td>\n",
       "      <td>Michael</td>\n",
       "      <td>2025-10-17</td>\n",
       "      <td>1995-07-02</td>\n",
       "      <td>10249</td>\n",
       "      <td>18.6</td>\n",
       "      <td>9</td>\n",
       "    </tr>\n",
       "    <tr>\n",
       "      <th>4</th>\n",
       "      <td>6</td>\n",
       "      <td>Suyama</td>\n",
       "      <td>Michael</td>\n",
       "      <td>2025-10-17</td>\n",
       "      <td>1995-07-02</td>\n",
       "      <td>10249</td>\n",
       "      <td>42.4</td>\n",
       "      <td>40</td>\n",
       "    </tr>\n",
       "  </tbody>\n",
       "</table>\n",
       "</div>"
      ],
      "text/plain": [
       "   Id  LastName FirstName    HireDate   BirthDate  OrderId  UnitPrice  \\\n",
       "0   5  Buchanan    Steven  2025-10-17  1987-03-04    10248       14.0   \n",
       "1   5  Buchanan    Steven  2025-10-17  1987-03-04    10248        9.8   \n",
       "2   5  Buchanan    Steven  2025-10-17  1987-03-04    10248       34.8   \n",
       "3   6    Suyama   Michael  2025-10-17  1995-07-02    10249       18.6   \n",
       "4   6    Suyama   Michael  2025-10-17  1995-07-02    10249       42.4   \n",
       "\n",
       "   Quantity  \n",
       "0        12  \n",
       "1        10  \n",
       "2         5  \n",
       "3         9  \n",
       "4        40  "
      ]
     },
     "execution_count": 38,
     "metadata": {},
     "output_type": "execute_result"
    }
   ],
   "source": [
    "dfe = pd.read_sql_query(\"\"\"SELECT e.ID, e.LastName, e.FirstName, e.HireDate, e.BirthDate, od.OrderID,\n",
    "                                    od.UnitPrice, od.Quantity \n",
    "                                    FROM Employee e\n",
    "                                    JOIN [Order] O ON e.ID = O.EmployeeID\n",
    "                                    JOIN OrderDetail od ON O.ID = od.OrderID;\"\"\", con=engine)\n",
    "dfe.head()"
   ]
  },
  {
   "cell_type": "code",
   "execution_count": 39,
   "metadata": {},
   "outputs": [
    {
     "name": "stdout",
     "output_type": "stream",
     "text": [
      "<class 'pandas.core.frame.DataFrame'>\n",
      "RangeIndex: 2155 entries, 0 to 2154\n",
      "Data columns (total 8 columns):\n",
      "Id           2155 non-null int64\n",
      "LastName     2155 non-null object\n",
      "FirstName    2155 non-null object\n",
      "HireDate     2155 non-null object\n",
      "BirthDate    2155 non-null object\n",
      "OrderId      2155 non-null int64\n",
      "UnitPrice    2155 non-null float64\n",
      "Quantity     2155 non-null int64\n",
      "dtypes: float64(1), int64(3), object(4)\n",
      "memory usage: 134.8+ KB\n"
     ]
    }
   ],
   "source": [
    "dfe.info()"
   ]
  },
  {
   "cell_type": "code",
   "execution_count": 40,
   "metadata": {},
   "outputs": [],
   "source": [
    "dfe['HireDate'] = pd.to_datetime(dfe['HireDate'])\n",
    "dfe['BirthDate'] = pd.to_datetime(dfe['BirthDate'])"
   ]
  },
  {
   "cell_type": "code",
   "execution_count": 41,
   "metadata": {},
   "outputs": [
    {
     "name": "stdout",
     "output_type": "stream",
     "text": [
      "<class 'pandas.core.frame.DataFrame'>\n",
      "RangeIndex: 2155 entries, 0 to 2154\n",
      "Data columns (total 8 columns):\n",
      "Id           2155 non-null int64\n",
      "LastName     2155 non-null object\n",
      "FirstName    2155 non-null object\n",
      "HireDate     2155 non-null datetime64[ns]\n",
      "BirthDate    2155 non-null datetime64[ns]\n",
      "OrderId      2155 non-null int64\n",
      "UnitPrice    2155 non-null float64\n",
      "Quantity     2155 non-null int64\n",
      "dtypes: datetime64[ns](2), float64(1), int64(3), object(2)\n",
      "memory usage: 134.8+ KB\n"
     ]
    }
   ],
   "source": [
    "dfe.info()"
   ]
  },
  {
   "cell_type": "code",
   "execution_count": 42,
   "metadata": {},
   "outputs": [],
   "source": [
    "dfe['hireday'] = pd.DatetimeIndex(dfe['HireDate']).day\n",
    "dfe['hiremonth'] = pd.DatetimeIndex(dfe['HireDate']).month\n",
    "dfe['hireyear'] = pd.DatetimeIndex(dfe['HireDate']).year"
   ]
  },
  {
   "cell_type": "code",
   "execution_count": 43,
   "metadata": {},
   "outputs": [
    {
     "data": {
      "text/html": [
       "<div>\n",
       "<style scoped>\n",
       "    .dataframe tbody tr th:only-of-type {\n",
       "        vertical-align: middle;\n",
       "    }\n",
       "\n",
       "    .dataframe tbody tr th {\n",
       "        vertical-align: top;\n",
       "    }\n",
       "\n",
       "    .dataframe thead th {\n",
       "        text-align: right;\n",
       "    }\n",
       "</style>\n",
       "<table border=\"1\" class=\"dataframe\">\n",
       "  <thead>\n",
       "    <tr style=\"text-align: right;\">\n",
       "      <th></th>\n",
       "      <th>Id</th>\n",
       "      <th>LastName</th>\n",
       "      <th>FirstName</th>\n",
       "      <th>HireDate</th>\n",
       "      <th>BirthDate</th>\n",
       "      <th>OrderId</th>\n",
       "      <th>UnitPrice</th>\n",
       "      <th>Quantity</th>\n",
       "      <th>hireday</th>\n",
       "      <th>hiremonth</th>\n",
       "      <th>hireyear</th>\n",
       "    </tr>\n",
       "  </thead>\n",
       "  <tbody>\n",
       "    <tr>\n",
       "      <th>0</th>\n",
       "      <td>5</td>\n",
       "      <td>Buchanan</td>\n",
       "      <td>Steven</td>\n",
       "      <td>2025-10-17</td>\n",
       "      <td>1987-03-04</td>\n",
       "      <td>10248</td>\n",
       "      <td>14.0</td>\n",
       "      <td>12</td>\n",
       "      <td>17</td>\n",
       "      <td>10</td>\n",
       "      <td>2025</td>\n",
       "    </tr>\n",
       "    <tr>\n",
       "      <th>1</th>\n",
       "      <td>5</td>\n",
       "      <td>Buchanan</td>\n",
       "      <td>Steven</td>\n",
       "      <td>2025-10-17</td>\n",
       "      <td>1987-03-04</td>\n",
       "      <td>10248</td>\n",
       "      <td>9.8</td>\n",
       "      <td>10</td>\n",
       "      <td>17</td>\n",
       "      <td>10</td>\n",
       "      <td>2025</td>\n",
       "    </tr>\n",
       "    <tr>\n",
       "      <th>2</th>\n",
       "      <td>5</td>\n",
       "      <td>Buchanan</td>\n",
       "      <td>Steven</td>\n",
       "      <td>2025-10-17</td>\n",
       "      <td>1987-03-04</td>\n",
       "      <td>10248</td>\n",
       "      <td>34.8</td>\n",
       "      <td>5</td>\n",
       "      <td>17</td>\n",
       "      <td>10</td>\n",
       "      <td>2025</td>\n",
       "    </tr>\n",
       "    <tr>\n",
       "      <th>3</th>\n",
       "      <td>6</td>\n",
       "      <td>Suyama</td>\n",
       "      <td>Michael</td>\n",
       "      <td>2025-10-17</td>\n",
       "      <td>1995-07-02</td>\n",
       "      <td>10249</td>\n",
       "      <td>18.6</td>\n",
       "      <td>9</td>\n",
       "      <td>17</td>\n",
       "      <td>10</td>\n",
       "      <td>2025</td>\n",
       "    </tr>\n",
       "    <tr>\n",
       "      <th>4</th>\n",
       "      <td>6</td>\n",
       "      <td>Suyama</td>\n",
       "      <td>Michael</td>\n",
       "      <td>2025-10-17</td>\n",
       "      <td>1995-07-02</td>\n",
       "      <td>10249</td>\n",
       "      <td>42.4</td>\n",
       "      <td>40</td>\n",
       "      <td>17</td>\n",
       "      <td>10</td>\n",
       "      <td>2025</td>\n",
       "    </tr>\n",
       "  </tbody>\n",
       "</table>\n",
       "</div>"
      ],
      "text/plain": [
       "   Id  LastName FirstName   HireDate  BirthDate  OrderId  UnitPrice  Quantity  \\\n",
       "0   5  Buchanan    Steven 2025-10-17 1987-03-04    10248       14.0        12   \n",
       "1   5  Buchanan    Steven 2025-10-17 1987-03-04    10248        9.8        10   \n",
       "2   5  Buchanan    Steven 2025-10-17 1987-03-04    10248       34.8         5   \n",
       "3   6    Suyama   Michael 2025-10-17 1995-07-02    10249       18.6         9   \n",
       "4   6    Suyama   Michael 2025-10-17 1995-07-02    10249       42.4        40   \n",
       "\n",
       "   hireday  hiremonth  hireyear  \n",
       "0       17         10      2025  \n",
       "1       17         10      2025  \n",
       "2       17         10      2025  \n",
       "3       17         10      2025  \n",
       "4       17         10      2025  "
      ]
     },
     "execution_count": 43,
     "metadata": {},
     "output_type": "execute_result"
    }
   ],
   "source": [
    "dfe.head()"
   ]
  },
  {
   "cell_type": "code",
   "execution_count": 44,
   "metadata": {},
   "outputs": [
    {
     "data": {
      "text/plain": [
       "2024    907\n",
       "2025    705\n",
       "2026    543\n",
       "Name: hireyear, dtype: int64"
      ]
     },
     "execution_count": 44,
     "metadata": {},
     "output_type": "execute_result"
    }
   ],
   "source": [
    "dfe.hireyear.value_counts()"
   ]
  },
  {
   "cell_type": "code",
   "execution_count": 45,
   "metadata": {},
   "outputs": [
    {
     "data": {
      "text/plain": [
       "5     765\n",
       "4     321\n",
       "10    285\n",
       "3     260\n",
       "8     241\n",
       "1     176\n",
       "11    107\n",
       "Name: hiremonth, dtype: int64"
      ]
     },
     "execution_count": 45,
     "metadata": {},
     "output_type": "execute_result"
    }
   ],
   "source": [
    "dfe.hiremonth.value_counts()"
   ]
  },
  {
   "cell_type": "code",
   "execution_count": 46,
   "metadata": {},
   "outputs": [
    {
     "data": {
      "text/html": [
       "<div>\n",
       "<style scoped>\n",
       "    .dataframe tbody tr th:only-of-type {\n",
       "        vertical-align: middle;\n",
       "    }\n",
       "\n",
       "    .dataframe tbody tr th {\n",
       "        vertical-align: top;\n",
       "    }\n",
       "\n",
       "    .dataframe thead th {\n",
       "        text-align: right;\n",
       "    }\n",
       "</style>\n",
       "<table border=\"1\" class=\"dataframe\">\n",
       "  <thead>\n",
       "    <tr style=\"text-align: right;\">\n",
       "      <th></th>\n",
       "      <th>Id</th>\n",
       "      <th>OrderId</th>\n",
       "      <th>UnitPrice</th>\n",
       "      <th>Quantity</th>\n",
       "      <th>hireday</th>\n",
       "      <th>hiremonth</th>\n",
       "      <th>hireyear</th>\n",
       "    </tr>\n",
       "  </thead>\n",
       "  <tbody>\n",
       "    <tr>\n",
       "      <th>count</th>\n",
       "      <td>2155.000000</td>\n",
       "      <td>2155.000000</td>\n",
       "      <td>2155.000000</td>\n",
       "      <td>2155.000000</td>\n",
       "      <td>2155.000000</td>\n",
       "      <td>2155.000000</td>\n",
       "      <td>2155.000000</td>\n",
       "    </tr>\n",
       "    <tr>\n",
       "      <th>mean</th>\n",
       "      <td>4.333179</td>\n",
       "      <td>10659.375870</td>\n",
       "      <td>26.218520</td>\n",
       "      <td>23.812993</td>\n",
       "      <td>6.219026</td>\n",
       "      <td>5.577726</td>\n",
       "      <td>2024.831090</td>\n",
       "    </tr>\n",
       "    <tr>\n",
       "      <th>std</th>\n",
       "      <td>2.490351</td>\n",
       "      <td>241.378032</td>\n",
       "      <td>29.827418</td>\n",
       "      <td>19.022047</td>\n",
       "      <td>6.169180</td>\n",
       "      <td>2.776387</td>\n",
       "      <td>0.802884</td>\n",
       "    </tr>\n",
       "    <tr>\n",
       "      <th>min</th>\n",
       "      <td>1.000000</td>\n",
       "      <td>10248.000000</td>\n",
       "      <td>2.000000</td>\n",
       "      <td>1.000000</td>\n",
       "      <td>1.000000</td>\n",
       "      <td>1.000000</td>\n",
       "      <td>2024.000000</td>\n",
       "    </tr>\n",
       "    <tr>\n",
       "      <th>25%</th>\n",
       "      <td>2.000000</td>\n",
       "      <td>10451.000000</td>\n",
       "      <td>12.000000</td>\n",
       "      <td>10.000000</td>\n",
       "      <td>1.000000</td>\n",
       "      <td>4.000000</td>\n",
       "      <td>2024.000000</td>\n",
       "    </tr>\n",
       "    <tr>\n",
       "      <th>50%</th>\n",
       "      <td>4.000000</td>\n",
       "      <td>10657.000000</td>\n",
       "      <td>18.400000</td>\n",
       "      <td>20.000000</td>\n",
       "      <td>3.000000</td>\n",
       "      <td>5.000000</td>\n",
       "      <td>2025.000000</td>\n",
       "    </tr>\n",
       "    <tr>\n",
       "      <th>75%</th>\n",
       "      <td>7.000000</td>\n",
       "      <td>10862.500000</td>\n",
       "      <td>32.000000</td>\n",
       "      <td>30.000000</td>\n",
       "      <td>14.000000</td>\n",
       "      <td>8.000000</td>\n",
       "      <td>2026.000000</td>\n",
       "    </tr>\n",
       "    <tr>\n",
       "      <th>max</th>\n",
       "      <td>9.000000</td>\n",
       "      <td>11077.000000</td>\n",
       "      <td>263.500000</td>\n",
       "      <td>130.000000</td>\n",
       "      <td>17.000000</td>\n",
       "      <td>11.000000</td>\n",
       "      <td>2026.000000</td>\n",
       "    </tr>\n",
       "  </tbody>\n",
       "</table>\n",
       "</div>"
      ],
      "text/plain": [
       "                Id       OrderId    UnitPrice     Quantity      hireday  \\\n",
       "count  2155.000000   2155.000000  2155.000000  2155.000000  2155.000000   \n",
       "mean      4.333179  10659.375870    26.218520    23.812993     6.219026   \n",
       "std       2.490351    241.378032    29.827418    19.022047     6.169180   \n",
       "min       1.000000  10248.000000     2.000000     1.000000     1.000000   \n",
       "25%       2.000000  10451.000000    12.000000    10.000000     1.000000   \n",
       "50%       4.000000  10657.000000    18.400000    20.000000     3.000000   \n",
       "75%       7.000000  10862.500000    32.000000    30.000000    14.000000   \n",
       "max       9.000000  11077.000000   263.500000   130.000000    17.000000   \n",
       "\n",
       "         hiremonth     hireyear  \n",
       "count  2155.000000  2155.000000  \n",
       "mean      5.577726  2024.831090  \n",
       "std       2.776387     0.802884  \n",
       "min       1.000000  2024.000000  \n",
       "25%       4.000000  2024.000000  \n",
       "50%       5.000000  2025.000000  \n",
       "75%       8.000000  2026.000000  \n",
       "max      11.000000  2026.000000  "
      ]
     },
     "execution_count": 46,
     "metadata": {},
     "output_type": "execute_result"
    }
   ],
   "source": [
    "dfe.describe()"
   ]
  },
  {
   "cell_type": "code",
   "execution_count": 47,
   "metadata": {},
   "outputs": [
    {
     "data": {
      "image/png": "[encoded data removed]",
      "text/plain": [
       "<Figure size 864x720 with 1 Axes>"
      ]
     },
     "metadata": {},
     "output_type": "display_data"
    }
   ],
   "source": [
    "ax = dfe.plot.scatter(x='hiremonth', y='Quantity', c='DarkBlue')"
   ]
  },
  {
   "cell_type": "code",
   "execution_count": 48,
   "metadata": {},
   "outputs": [
    {
     "data": {
      "image/png": "[encoded data removed]",
      "text/plain": [
       "<Figure size 864x720 with 1 Axes>"
      ]
     },
     "metadata": {},
     "output_type": "display_data"
    }
   ],
   "source": [
    "dfe['Quantity'] = create_sample_distribution(dfe['Quantity'], 2155, 30)\n",
    "sns.distplot(dfe['Quantity']);"
   ]
  },
  {
   "cell_type": "code",
   "execution_count": 49,
   "metadata": {},
   "outputs": [
    {
     "data": {
      "image/png": "[encoded data removed]",
      "text/plain": [
       "<Figure size 864x720 with 1 Axes>"
      ]
     },
     "metadata": {},
     "output_type": "display_data"
    }
   ],
   "source": [
    "ax = dfe.plot.scatter(x='hiremonth', y='Quantity', c='DarkBlue')"
   ]
  },
  {
   "cell_type": "code",
   "execution_count": 50,
   "metadata": {},
   "outputs": [
    {
     "data": {
      "text/plain": [
       "<matplotlib.axes._subplots.AxesSubplot at 0x124016d30>"
      ]
     },
     "execution_count": 50,
     "metadata": {},
     "output_type": "execute_result"
    },
    {
     "data": {
      "image/png": "[encoded data removed]",
      "text/plain": [
       "<Figure size 864x720 with 1 Axes>"
      ]
     },
     "metadata": {},
     "output_type": "display_data"
    }
   ],
   "source": [
    "sns.boxplot(x=dfe.hiremonth, y=dfe.Quantity)"
   ]
  },
  {
   "cell_type": "code",
   "execution_count": 51,
   "metadata": {},
   "outputs": [
    {
     "data": {
      "text/plain": [
       "Text(0.5, 0, 'Hire Months')"
      ]
     },
     "execution_count": 51,
     "metadata": {},
     "output_type": "execute_result"
    },
    {
     "data": {
      "image/png": "[encoded data removed]",
      "text/plain": [
       "<Figure size 864x720 with 1 Axes>"
      ]
     },
     "metadata": {},
     "output_type": "display_data"
    }
   ],
   "source": [
    "sns.boxenplot(dfe.hiremonth, dfe.Quantity)\n",
    "positions = (0, 1, 2, 3, 4, 5, 6)\n",
    "labels = (\"January\", \"March\", \"April\", \"May\", \"August\", \"October\", \"November\")\n",
    "plt.xticks(positions, labels)\n",
    "plt.xlabel(\"Hire Months\")"
   ]
  },
  {
   "cell_type": "code",
   "execution_count": null,
   "metadata": {},
   "outputs": [],
   "source": []
  },
  {
   "cell_type": "markdown",
   "metadata": {},
   "source": [
    "### Define Hypothesis\n",
    "\n",
    "$H_{0}$ There is no difference in productivity based on hire month.\n",
    "\n",
    "$H_{a}$ There is a difference in productivity based on hire month.\n",
    "\n",
    "This will be a **two-tail test** because I am testing to see if those hired in different months will sell _more than_ or _less than_ those from a different month of hire."
   ]
  },
  {
   "cell_type": "markdown",
   "metadata": {},
   "source": [
    "### Statistical Testing"
   ]
  },
  {
   "cell_type": "code",
   "execution_count": 52,
   "metadata": {},
   "outputs": [
    {
     "data": {
      "text/plain": [
       "191.25371611872265"
      ]
     },
     "execution_count": 52,
     "metadata": {},
     "output_type": "execute_result"
    }
   ],
   "source": [
    "welch_t(dfe.Quantity, dfe.hiremonth)"
   ]
  },
  {
   "cell_type": "code",
   "execution_count": 53,
   "metadata": {},
   "outputs": [
    {
     "data": {
      "text/plain": [
       "0.0"
      ]
     },
     "execution_count": 53,
     "metadata": {},
     "output_type": "execute_result"
    }
   ],
   "source": [
    "p_value(dfe.Quantity, dfe.hiremonth)"
   ]
  },
  {
   "cell_type": "code",
   "execution_count": 54,
   "metadata": {},
   "outputs": [
    {
     "data": {
      "text/plain": [
       "(36577.98392922093, 0.0)"
      ]
     },
     "execution_count": 54,
     "metadata": {},
     "output_type": "execute_result"
    }
   ],
   "source": [
    "F, p = stats.f_oneway(dfe['Quantity'], dfe['hiremonth'])\n",
    "F, p"
   ]
  },
  {
   "cell_type": "code",
   "execution_count": 55,
   "metadata": {},
   "outputs": [
    {
     "name": "stdout",
     "output_type": "stream",
     "text": [
      "      Source         SS    DF      MS      F     p-unc    np2\n",
      "0  hiremonth     54.123     6   9.020  0.746  0.612894  0.002\n",
      "1     Within  25985.565  2148  12.098      -         -      -\n"
     ]
    }
   ],
   "source": [
    "aov = pg.anova(data=dfe, dv='Quantity', between='hiremonth', detailed=True)\n",
    "print(aov)"
   ]
  },
  {
   "cell_type": "code",
   "execution_count": 56,
   "metadata": {},
   "outputs": [
    {
     "data": {
      "text/plain": [
       "LeveneResult(statistic=0.7172101292758736, pvalue=0.635751101896068)"
      ]
     },
     "execution_count": 56,
     "metadata": {},
     "output_type": "execute_result"
    }
   ],
   "source": [
    "stats.levene(dfe['Quantity'][dfe['hiremonth'] == 1],\n",
    "             dfe['Quantity'][dfe['hiremonth'] == 3],\n",
    "             dfe['Quantity'][dfe['hiremonth'] == 4],\n",
    "             dfe['Quantity'][dfe['hiremonth'] == 5],\n",
    "             dfe['Quantity'][dfe['hiremonth'] == 8],\n",
    "             dfe['Quantity'][dfe['hiremonth'] == 10],\n",
    "             dfe['Quantity'][dfe['hiremonth'] == 11])"
   ]
  },
  {
   "cell_type": "code",
   "execution_count": 57,
   "metadata": {},
   "outputs": [
    {
     "name": "stdout",
     "output_type": "stream",
     "text": [
      "Null hypothesis is True with t-value = 1.32 , critical t-value = 1.6455613468643528 and p-value = 0.1869865017\n"
     ]
    },
    {
     "data": {
      "image/png": "[encoded data removed]",
      "text/plain": [
       "<Figure size 864x720 with 1 Axes>"
      ]
     },
     "metadata": {},
     "output_type": "display_data"
    }
   ],
   "source": [
    "sample=dfe.Quantity\n",
    "popmean=23.81\n",
    "alpha= 0.05\n",
    "one_sample_ttest(sample, popmean, alpha)"
   ]
  },
  {
   "cell_type": "markdown",
   "metadata": {},
   "source": [
    "### Conclusions"
   ]
  },
  {
   "cell_type": "markdown",
   "metadata": {},
   "source": [
    "I don't think I'm using the one sample t test correctly. I also don't think there's a statistical difference in hire months."
   ]
  },
  {
   "cell_type": "code",
   "execution_count": null,
   "metadata": {},
   "outputs": [],
   "source": []
  },
  {
   "cell_type": "code",
   "execution_count": null,
   "metadata": {},
   "outputs": [],
   "source": []
  },
  {
   "cell_type": "markdown",
   "metadata": {},
   "source": [
    "## Q4: Do younger employees sell more products than the older employees?"
   ]
  },
  {
   "cell_type": "markdown",
   "metadata": {},
   "source": [
    "### Exploratory Research"
   ]
  },
  {
   "cell_type": "code",
   "execution_count": 58,
   "metadata": {},
   "outputs": [
    {
     "data": {
      "text/html": [
       "<div>\n",
       "<style scoped>\n",
       "    .dataframe tbody tr th:only-of-type {\n",
       "        vertical-align: middle;\n",
       "    }\n",
       "\n",
       "    .dataframe tbody tr th {\n",
       "        vertical-align: top;\n",
       "    }\n",
       "\n",
       "    .dataframe thead th {\n",
       "        text-align: right;\n",
       "    }\n",
       "</style>\n",
       "<table border=\"1\" class=\"dataframe\">\n",
       "  <thead>\n",
       "    <tr style=\"text-align: right;\">\n",
       "      <th></th>\n",
       "      <th>Id</th>\n",
       "      <th>LastName</th>\n",
       "      <th>FirstName</th>\n",
       "      <th>HireDate</th>\n",
       "      <th>BirthDate</th>\n",
       "      <th>OrderId</th>\n",
       "      <th>UnitPrice</th>\n",
       "      <th>Quantity</th>\n",
       "      <th>hireday</th>\n",
       "      <th>hiremonth</th>\n",
       "      <th>hireyear</th>\n",
       "    </tr>\n",
       "  </thead>\n",
       "  <tbody>\n",
       "    <tr>\n",
       "      <th>0</th>\n",
       "      <td>5</td>\n",
       "      <td>Buchanan</td>\n",
       "      <td>Steven</td>\n",
       "      <td>2025-10-17</td>\n",
       "      <td>1987-03-04</td>\n",
       "      <td>10248</td>\n",
       "      <td>14.0</td>\n",
       "      <td>22.733333</td>\n",
       "      <td>17</td>\n",
       "      <td>10</td>\n",
       "      <td>2025</td>\n",
       "    </tr>\n",
       "    <tr>\n",
       "      <th>1</th>\n",
       "      <td>5</td>\n",
       "      <td>Buchanan</td>\n",
       "      <td>Steven</td>\n",
       "      <td>2025-10-17</td>\n",
       "      <td>1987-03-04</td>\n",
       "      <td>10248</td>\n",
       "      <td>9.8</td>\n",
       "      <td>23.266667</td>\n",
       "      <td>17</td>\n",
       "      <td>10</td>\n",
       "      <td>2025</td>\n",
       "    </tr>\n",
       "    <tr>\n",
       "      <th>2</th>\n",
       "      <td>5</td>\n",
       "      <td>Buchanan</td>\n",
       "      <td>Steven</td>\n",
       "      <td>2025-10-17</td>\n",
       "      <td>1987-03-04</td>\n",
       "      <td>10248</td>\n",
       "      <td>34.8</td>\n",
       "      <td>24.400000</td>\n",
       "      <td>17</td>\n",
       "      <td>10</td>\n",
       "      <td>2025</td>\n",
       "    </tr>\n",
       "    <tr>\n",
       "      <th>3</th>\n",
       "      <td>6</td>\n",
       "      <td>Suyama</td>\n",
       "      <td>Michael</td>\n",
       "      <td>2025-10-17</td>\n",
       "      <td>1995-07-02</td>\n",
       "      <td>10249</td>\n",
       "      <td>18.6</td>\n",
       "      <td>16.166667</td>\n",
       "      <td>17</td>\n",
       "      <td>10</td>\n",
       "      <td>2025</td>\n",
       "    </tr>\n",
       "    <tr>\n",
       "      <th>4</th>\n",
       "      <td>6</td>\n",
       "      <td>Suyama</td>\n",
       "      <td>Michael</td>\n",
       "      <td>2025-10-17</td>\n",
       "      <td>1995-07-02</td>\n",
       "      <td>10249</td>\n",
       "      <td>42.4</td>\n",
       "      <td>27.333333</td>\n",
       "      <td>17</td>\n",
       "      <td>10</td>\n",
       "      <td>2025</td>\n",
       "    </tr>\n",
       "  </tbody>\n",
       "</table>\n",
       "</div>"
      ],
      "text/plain": [
       "   Id  LastName FirstName   HireDate  BirthDate  OrderId  UnitPrice  \\\n",
       "0   5  Buchanan    Steven 2025-10-17 1987-03-04    10248       14.0   \n",
       "1   5  Buchanan    Steven 2025-10-17 1987-03-04    10248        9.8   \n",
       "2   5  Buchanan    Steven 2025-10-17 1987-03-04    10248       34.8   \n",
       "3   6    Suyama   Michael 2025-10-17 1995-07-02    10249       18.6   \n",
       "4   6    Suyama   Michael 2025-10-17 1995-07-02    10249       42.4   \n",
       "\n",
       "    Quantity  hireday  hiremonth  hireyear  \n",
       "0  22.733333       17         10      2025  \n",
       "1  23.266667       17         10      2025  \n",
       "2  24.400000       17         10      2025  \n",
       "3  16.166667       17         10      2025  \n",
       "4  27.333333       17         10      2025  "
      ]
     },
     "execution_count": 58,
     "metadata": {},
     "output_type": "execute_result"
    }
   ],
   "source": [
    "# We're going to use the same data set as before since all our data is cleaned up already.\n",
    "dfe.head()"
   ]
  },
  {
   "cell_type": "code",
   "execution_count": 59,
   "metadata": {},
   "outputs": [],
   "source": [
    "dfe['birthday'] = pd.DatetimeIndex(dfe['BirthDate']).day\n",
    "dfe['birthmonth'] = pd.DatetimeIndex(dfe['BirthDate']).month\n",
    "dfe['birthyear'] = pd.DatetimeIndex(dfe['BirthDate']).year"
   ]
  },
  {
   "cell_type": "code",
   "execution_count": 60,
   "metadata": {},
   "outputs": [
    {
     "data": {
      "image/png": "[encoded data removed]",
      "text/plain": [
       "<Figure size 864x720 with 1 Axes>"
      ]
     },
     "metadata": {},
     "output_type": "display_data"
    }
   ],
   "source": [
    "ax1 = dfe.plot.scatter(x='birthyear',\n",
    "                        y='Quantity',\n",
    "                        c='DarkBlue')"
   ]
  },
  {
   "cell_type": "code",
   "execution_count": 61,
   "metadata": {},
   "outputs": [
    {
     "data": {
      "text/plain": [
       "<matplotlib.axes._subplots.AxesSubplot at 0x1241659e8>"
      ]
     },
     "execution_count": 61,
     "metadata": {},
     "output_type": "execute_result"
    },
    {
     "data": {
      "image/png": "[encoded data removed]",
      "text/plain": [
       "<Figure size 864x720 with 1 Axes>"
      ]
     },
     "metadata": {},
     "output_type": "display_data"
    }
   ],
   "source": [
    "sns.boxplot(x=dfe.birthyear, y=dfe.Quantity)"
   ]
  },
  {
   "cell_type": "code",
   "execution_count": 62,
   "metadata": {},
   "outputs": [
    {
     "data": {
      "text/plain": [
       "Text(0.5, 0, 'Birth Years')"
      ]
     },
     "execution_count": 62,
     "metadata": {},
     "output_type": "execute_result"
    },
    {
     "data": {
      "image/png": "[encoded data removed]",
      "text/plain": [
       "<Figure size 864x720 with 1 Axes>"
      ]
     },
     "metadata": {},
     "output_type": "display_data"
    }
   ],
   "source": [
    "sns.boxenplot(dfe.birthyear, dfe.Quantity)\n",
    "plt.xlabel(\"Birth Years\")"
   ]
  },
  {
   "cell_type": "code",
   "execution_count": 63,
   "metadata": {},
   "outputs": [
    {
     "data": {
      "text/plain": [
       "1995    489\n",
       "1969    420\n",
       "1980    345\n",
       "1990    260\n",
       "1984    241\n",
       "1992    176\n",
       "1987    117\n",
       "1998    107\n",
       "Name: birthyear, dtype: int64"
      ]
     },
     "execution_count": 63,
     "metadata": {},
     "output_type": "execute_result"
    }
   ],
   "source": [
    "dfe.birthyear.value_counts()"
   ]
  },
  {
   "cell_type": "markdown",
   "metadata": {},
   "source": [
    "### Define Hypothesis\n",
    "\n",
    "$H_{0}$: There is no difference between the amount of product sold based on age.\n",
    "\n",
    "$H_{a}$: Younger employees sell more than older employees.\n",
    "\n",
    "This will be a **one-tail** test because I am trying to determine if the younger employees will sell _more than_ the older employees."
   ]
  },
  {
   "cell_type": "markdown",
   "metadata": {},
   "source": [
    "### Statistical Testing"
   ]
  },
  {
   "cell_type": "code",
   "execution_count": 64,
   "metadata": {},
   "outputs": [
    {
     "data": {
      "text/plain": [
       "(79377170.92732875, 0.0)"
      ]
     },
     "execution_count": 64,
     "metadata": {},
     "output_type": "execute_result"
    }
   ],
   "source": [
    "F, p = stats.f_oneway(dfe['Quantity'], dfe['birthyear'])\n",
    "F, p"
   ]
  },
  {
   "cell_type": "code",
   "execution_count": 65,
   "metadata": {},
   "outputs": [
    {
     "name": "stdout",
     "output_type": "stream",
     "text": [
      "      Source         SS    DF      MS      F     p-unc    np2\n",
      "0  birthyear    102.625     7  14.661  1.214  0.291524  0.004\n",
      "1     Within  25937.063  2147  12.081      -         -      -\n"
     ]
    }
   ],
   "source": [
    "aov = pg.anova(data=dfe, dv='Quantity', between='birthyear', detailed=True)\n",
    "print(aov)"
   ]
  },
  {
   "cell_type": "code",
   "execution_count": 66,
   "metadata": {},
   "outputs": [
    {
     "data": {
      "text/plain": [
       "8909.386675155301"
      ]
     },
     "execution_count": 66,
     "metadata": {},
     "output_type": "execute_result"
    }
   ],
   "source": [
    "welch_t(dfe['Quantity'], dfe['birthyear'])"
   ]
  },
  {
   "cell_type": "code",
   "execution_count": 67,
   "metadata": {},
   "outputs": [
    {
     "data": {
      "text/plain": [
       "0.0"
      ]
     },
     "execution_count": 67,
     "metadata": {},
     "output_type": "execute_result"
    }
   ],
   "source": [
    "p_value(dfe['Quantity'], dfe['birthyear'])"
   ]
  },
  {
   "cell_type": "code",
   "execution_count": 68,
   "metadata": {},
   "outputs": [
    {
     "data": {
      "text/plain": [
       "1995    489\n",
       "1969    420\n",
       "1980    345\n",
       "1990    260\n",
       "1984    241\n",
       "1992    176\n",
       "1987    117\n",
       "1998    107\n",
       "Name: birthyear, dtype: int64"
      ]
     },
     "execution_count": 68,
     "metadata": {},
     "output_type": "execute_result"
    }
   ],
   "source": [
    "dfe.birthyear.value_counts()"
   ]
  },
  {
   "cell_type": "code",
   "execution_count": 69,
   "metadata": {},
   "outputs": [
    {
     "data": {
      "text/plain": [
       "LeveneResult(statistic=1.1704189419212492, pvalue=0.3164060323849006)"
      ]
     },
     "execution_count": 69,
     "metadata": {},
     "output_type": "execute_result"
    }
   ],
   "source": [
    "stats.levene(dfe['Quantity'][dfe['birthyear'] == 1969],\n",
    "             dfe['Quantity'][dfe['birthyear'] == 1980],\n",
    "             dfe['Quantity'][dfe['birthyear'] == 1984],\n",
    "             dfe['Quantity'][dfe['birthyear'] == 1987],\n",
    "             dfe['Quantity'][dfe['birthyear'] == 1990],\n",
    "             dfe['Quantity'][dfe['birthyear'] == 1992],\n",
    "             dfe['Quantity'][dfe['birthyear'] == 1995],\n",
    "             dfe['Quantity'][dfe['birthyear'] == 1998])"
   ]
  },
  {
   "cell_type": "markdown",
   "metadata": {},
   "source": [
    "### Conclusions"
   ]
  },
  {
   "cell_type": "markdown",
   "metadata": {},
   "source": [
    "The p_value for the levene test was very high, so I don't think there is a statiscially significant effect on age and quantity sold. However, I also don't know that I used this correctly so I might be wrong."
   ]
  },
  {
   "cell_type": "markdown",
   "metadata": {},
   "source": [
    "## Future Work"
   ]
  },
  {
   "cell_type": "markdown",
   "metadata": {},
   "source": [
    "1. Look more into the degrees of discounts.\n",
    "\n",
    "2. Is the company keeping too much inventory in stock for products that are sold less often or in fewer quantity?\n",
    "\n",
    "3. Does the title of the employee change how much revenue they bring in? Do more managers/reps mean more products sold?\n",
    "\n",
    "4. Does amount of schooling matter for products sold? (This will be based off of the Doctor title vs not.)"
   ]
  },
  {
   "cell_type": "code",
   "execution_count": null,
   "metadata": {},
   "outputs": [],
   "source": []
  }
 ],
 "metadata": {
  "kernelspec": {
   "display_name": "Python [conda env:learn-env] *",
   "language": "python",
   "name": "conda-env-learn-env-py"
  },
  "language_info": {
   "codemirror_mode": {
    "name": "ipython",
    "version": 3
   },
   "file_extension": ".py",
   "mimetype": "text/x-python",
   "name": "python",
   "nbconvert_exporter": "python",
   "pygments_lexer": "ipython3",
   "version": "3.6.6"
  },
  "latex_envs": {
   "LaTeX_envs_menu_present": true,
   "autoclose": true,
   "autocomplete": true,
   "bibliofile": "biblio.bib",
   "cite_by": "apalike",
   "current_citInitial": 1,
   "eqLabelWithNumbers": true,
   "eqNumInitial": 1,
   "hotkeys": {
    "equation": "Ctrl-E",
    "itemize": "Ctrl-I"
   },
   "labels_anchors": false,
   "latex_user_defs": false,
   "report_style_numbering": false,
   "user_envs_cfg": false
  },
  "varInspector": {
   "cols": {
    "lenName": 16,
    "lenType": 16,
    "lenVar": 40
   },
   "kernels_config": {
    "python": {
     "delete_cmd_postfix": "",
     "delete_cmd_prefix": "del ",
     "library": "var_list.py",
     "varRefreshCmd": "print(var_dic_list())"
    },
    "r": {
     "delete_cmd_postfix": ") ",
     "delete_cmd_prefix": "rm(",
     "library": "var_list.r",
     "varRefreshCmd": "cat(var_dic_list()) "
    }
   },
   "types_to_exclude": [
    "module",
    "function",
    "builtin_function_or_method",
    "instance",
    "_Feature"
   ],
   "window_display": false
  }
 },
 "nbformat": 4,
 "nbformat_minor": 2
}
